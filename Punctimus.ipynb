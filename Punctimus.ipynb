{
 "cells": [
  {
   "cell_type": "code",
   "execution_count": 1,
   "metadata": {},
   "outputs": [],
   "source": [
    "from __future__ import absolute_import, division, print_function, unicode_literals\n",
    "\n",
    "try:\n",
    "    %tensorflow_version 2.x\n",
    "except Exception:\n",
    "    pass\n",
    "\n",
    "import tensorflow_datasets as tfds\n",
    "import tensorflow as tf\n",
    "\n",
    "import time\n",
    "import numpy as np\n",
    "import matplotlib.pyplot as plt\n",
    "\n",
    "import re"
   ]
  },
  {
   "cell_type": "code",
   "execution_count": 2,
   "metadata": {},
   "outputs": [
    {
     "name": "stdout",
     "output_type": "stream",
     "text": [
      "/bin/sh: 1: nvidia-smi: not found\r\n"
     ]
    }
   ],
   "source": [
    "!nvidia-smi"
   ]
  },
  {
   "cell_type": "markdown",
   "metadata": {},
   "source": [
    "## Input Pipeline"
   ]
  },
  {
   "cell_type": "code",
   "execution_count": 3,
   "metadata": {},
   "outputs": [],
   "source": [
    "import csv\n",
    "\n",
    "transcripts = []\n",
    "\n",
    "with open('datasets/transcripts.csv', newline='') as csvfile:\n",
    "    reader = csv.reader(csvfile, delimiter=',', quotechar='\"')\n",
    "    for i, row in enumerate(reader):\n",
    "        if not i:\n",
    "            continue\n",
    "        transcripts.append(row[0])\n"
   ]
  },
  {
   "cell_type": "code",
   "execution_count": 4,
   "metadata": {},
   "outputs": [
    {
     "name": "stdout",
     "output_type": "stream",
     "text": [
      "2467\n"
     ]
    }
   ],
   "source": [
    "print(len(transcripts))"
   ]
  },
  {
   "cell_type": "code",
   "execution_count": 5,
   "metadata": {},
   "outputs": [
    {
     "name": "stdout",
     "output_type": "stream",
     "text": [
      "['Good morning. How are you?(Laughter)It\\'s been great, hasn\\'t it? I\\'ve been blown away by the whole thing. In fact, I\\'m leaving.(Laughter)There have been three themes running through the conference which are relevant to what I want to talk about. One is the extraordinary evidence of human creativity in all of the presentations that we\\'ve had and in all of the people here. Just the variety of it and the range of it. The second is that it\\'s put us in a place where we have no idea what\\'s going to happen, in terms of the future. No idea how this may play out.I have an interest in education. Actually, what I find is everybody has an interest in education. Don\\'t you? I find this very interesting. If you\\'re at a dinner party, and you say you work in education — Actually, you\\'re not often at dinner parties, frankly.(Laughter)If you work in education, you\\'re not asked.(Laughter)And you\\'re never asked back, curiously. That\\'s strange to me. But if you are, and you say to somebody, you know, they say, \"What do you do?\" and you say you work in education, you can see the blood run from their face. They\\'re like, \"Oh my God,\" you know, \"Why me?\"(Laughter)\"My one night out all week.\"(Laughter)But if you ask about their education, they pin you to the wall. Because it\\'s one of those things that goes deep with people, am I right? Like religion, and money and other things. So I have a big interest in education, and I think we all do. We have a huge vested interest in it, partly because it\\'s education that\\'s meant to take us into this future that we can\\'t grasp. If you think of it, children starting school this year will be retiring in 2065. Nobody has a clue, despite all the expertise that\\'s been on parade for the past four days, what the world will look like in five years\\' time. And yet we\\'re meant to be educating them for it. So the unpredictability, I think, is extraordinary.And the third part of this is that we\\'ve all agreed, nonetheless, on the really extraordinary capacities that children have — their capacities for innovation. I mean, Sirena last night was a marvel, wasn\\'t she? Just seeing what she could do. And she\\'s exceptional, but I think she\\'s not, so to speak, exceptional in the whole of childhood. What you have there is a person of extraordinary dedication who found a talent. And my contention is, all kids have tremendous talents. And we squander them, pretty ruthlessly.So I want to talk about education and I want to talk about creativity. My contention is that creativity now is as important in education as literacy, and we should treat it with the same status.(Applause) Thank you.(Applause)That was it, by the way. Thank you very much.(Laughter)So, 15 minutes left.(Laughter)Well, I was born... no.(Laughter)I heard a great story recently — I love telling it — of a little girl who was in a drawing lesson. She was six, and she was at the back, drawing, and the teacher said this girl hardly ever paid attention, and in this drawing lesson, she did. The teacher was fascinated. She went over to her, and she said, \"What are you drawing?\" And the girl said, \"I\\'m drawing a picture of God.\" And the teacher said, \"But nobody knows what God looks like.\" And the girl said, \"They will, in a minute.\"(Laughter)When my son was four in England — Actually, he was four everywhere, to be honest.(Laughter)If we\\'re being strict about it, wherever he went, he was four that year. He was in the Nativity play. Do you remember the story?(Laughter)No, it was big, it was a big story. Mel Gibson did the sequel, you may have seen it.(Laughter)\"Nativity II.\" But James got the part of Joseph, which we were thrilled about. We considered this to be one of the lead parts. We had the place crammed full of agents in T-shirts: \"James Robinson IS Joseph!\" (Laughter) He didn\\'t have to speak, but you know the bit where the three kings come in? They come in bearing gifts, gold, frankincense and myrrh. This really happened. We were sitting there and I think they just went out of sequence, because we talked to the little boy afterward and we said, \"You OK with that?\" And he said, \"Yeah, why? Was that wrong?\" They just switched. The three boys came in, four-year-olds with tea towels on their heads, and they put these boxes down, and the first boy said, \"I bring you gold.\" And the second boy said, \"I bring you myrrh.\" And the third boy said, \"Frank sent this.\"(Laughter)What these things have in common is that kids will take a chance. If they don\\'t know, they\\'ll have a go. Am I right? They\\'re not frightened of being wrong. I don\\'t mean to say that being wrong is the same thing as being creative. What we do know is, if you\\'re not prepared to be wrong, you\\'ll never come up with anything original — if you\\'re not prepared to be wrong. And by the time they get to be adults, most kids have lost that capacity. They have become frightened of being wrong. And we run our companies like this. We stigmatize mistakes. And we\\'re now running national education systems where mistakes are the worst thing you can make. And the result is that we are educating people out of their creative capacities.Picasso once said this, he said that all children are born artists. The problem is to remain an artist as we grow up. I believe this passionately, that we don\\'t grow into creativity, we grow out of it. Or rather, we get educated out of it. So why is this?I lived in Stratford-on-Avon until about five years ago. In fact, we moved from Stratford to Los Angeles. So you can imagine what a seamless transition that was.(Laughter)Actually, we lived in a place called Snitterfield, just outside Stratford, which is where Shakespeare\\'s father was born. Are you struck by a new thought? I was. You don\\'t think of Shakespeare having a father, do you? Do you? Because you don\\'t think of Shakespeare being a child, do you? Shakespeare being seven? I never thought of it. I mean, he was seven at some point. He was in somebody\\'s English class, wasn\\'t he?(Laughter)How annoying would that be?(Laughter)\"Must try harder.\"(Laughter)Being sent to bed by his dad, you know, to Shakespeare, \"Go to bed, now! And put the pencil down.\"(Laughter)\"And stop speaking like that.\"(Laughter)\"It\\'s confusing everybody.\"(Laughter)Anyway, we moved from Stratford to Los Angeles, and I just want to say a word about the transition. My son didn\\'t want to come. I\\'ve got two kids; he\\'s 21 now, my daughter\\'s 16. He didn\\'t want to come to Los Angeles. He loved it, but he had a girlfriend in England. This was the love of his life, Sarah. He\\'d known her for a month.(Laughter)Mind you, they\\'d had their fourth anniversary, because it\\'s a long time when you\\'re 16. He was really upset on the plane, he said, \"I\\'ll never find another girl like Sarah.\" And we were rather pleased about that, frankly —(Laughter)Because she was the main reason we were leaving the country.(Laughter)But something strikes you when you move to America and travel around the world: Every education system on Earth has the same hierarchy of subjects. Every one. Doesn\\'t matter where you go. You\\'d think it would be otherwise, but it isn\\'t. At the top are mathematics and languages, then the humanities, and at the bottom are the arts. Everywhere on Earth. And in pretty much every system too, there\\'s a hierarchy within the arts. Art and music are normally given a higher status in schools than drama and dance. There isn\\'t an education system on the planet that teaches dance everyday to children the way we teach them mathematics. Why? Why not? I think this is rather important. I think math is very important, but so is dance. Children dance all the time if they\\'re allowed to, we all do. We all have bodies, don\\'t we? Did I miss a meeting?(Laughter)Truthfully, what happens is, as children grow up, we start to educate them progressively from the waist up. And then we focus on their heads. And slightly to one side.If you were to visit education, as an alien, and say \"What\\'s it for, public education?\" I think you\\'d have to conclude, if you look at the output, who really succeeds by this, who does everything that they should, who gets all the brownie points, who are the winners — I think you\\'d have to conclude the whole purpose of public education throughout the world is to produce university professors. Isn\\'t it? They\\'re the people who come out the top. And I used to be one, so there.(Laughter)And I like university professors, but you know, we shouldn\\'t hold them up as the high-water mark of all human achievement. They\\'re just a form of life, another form of life. But they\\'re rather curious, and I say this out of affection for them. There\\'s something curious about professors in my experience — not all of them, but typically, they live in their heads. They live up there, and slightly to one side. They\\'re disembodied, you know, in a kind of literal way. They look upon their body as a form of transport for their heads.(Laughter)Don\\'t they? It\\'s a way of getting their head to meetings.(Laughter)If you want real evidence of out-of-body experiences, get yourself along to a residential conference of senior academics, and pop into the discotheque on the final night.(Laughter)And there, you will see it. Grown men and women writhing uncontrollably, off the beat.(Laughter)Waiting until it ends so they can go home and write a paper about it.(Laughter)Our education system is predicated on the idea of academic ability. And there\\'s a reason. Around the world, there were no public systems of education, really, before the 19th century. They all came into being to meet the needs of industrialism. So the hierarchy is rooted on two ideas.Number one, that the most useful subjects for work are at the top. So you were probably steered benignly away from things at school when you were a kid, things you liked, on the grounds that you would never get a job doing that. Is that right? Don\\'t do music, you\\'re not going to be a musician; don\\'t do art, you won\\'t be an artist. Benign advice — now, profoundly mistaken. The whole world is engulfed in a revolution.And the second is academic ability, which has really come to dominate our view of intelligence, because the universities designed the system in their image. If you think of it, the whole system of public education around the world is a protracted process of university entrance. And the consequence is that many highly-talented, brilliant, creative people think they\\'re not, because the thing they were good at at school wasn\\'t valued, or was actually stigmatized. And I think we can\\'t afford to go on that way.In the next 30 years, according to UNESCO, more people worldwide will be graduating through education than since the beginning of history. More people, and it\\'s the combination of all the things we\\'ve talked about — technology and its transformation effect on work, and demography and the huge explosion in population.Suddenly, degrees aren\\'t worth anything. Isn\\'t that true? When I was a student, if you had a degree, you had a job. If you didn\\'t have a job, it\\'s because you didn\\'t want one. And I didn\\'t want one, frankly. (Laughter) But now kids with degrees are often heading home to carry on playing video games, because you need an MA where the previous job required a BA, and now you need a PhD for the other. It\\'s a process of academic inflation. And it indicates the whole structure of education is shifting beneath our feet. We need to radically rethink our view of intelligence.We know three things about intelligence. One, it\\'s diverse. We think about the world in all the ways that we experience it. We think visually, we think in sound, we think kinesthetically. We think in abstract terms, we think in movement. Secondly, intelligence is dynamic. If you look at the interactions of a human brain, as we heard yesterday from a number of presentations, intelligence is wonderfully interactive. The brain isn\\'t divided into compartments. In fact, creativity — which I define as the process of having original ideas that have value — more often than not comes about through the interaction of different disciplinary ways of seeing things.By the way, there\\'s a shaft of nerves that joins the two halves of the brain called the corpus callosum. It\\'s thicker in women. Following off from Helen yesterday, this is probably why women are better at multi-tasking. Because you are, aren\\'t you? There\\'s a raft of research, but I know it from my personal life. If my wife is cooking a meal at home — which is not often, thankfully.(Laughter)No, she\\'s good at some things, but if she\\'s cooking, she\\'s dealing with people on the phone, she\\'s talking to the kids, she\\'s painting the ceiling, she\\'s doing open-heart surgery over here. If I\\'m cooking, the door is shut, the kids are out, the phone\\'s on the hook, if she comes in I get annoyed. I say, \"Terry, please, I\\'m trying to fry an egg in here.\"(Laughter)\"Give me a break.\"(Laughter)Actually, do you know that old philosophical thing, if a tree falls in a forest and nobody hears it, did it happen? Remember that old chestnut? I saw a great t-shirt recently, which said, \"If a man speaks his mind in a forest, and no woman hears him, is he still wrong?\"(Laughter)And the third thing about intelligence is, it\\'s distinct. I\\'m doing a new book at the moment called \"Epiphany,\" which is based on a series of interviews with people about how they discovered their talent. I\\'m fascinated by how people got to be there. It\\'s really prompted by a conversation I had with a wonderful woman who maybe most people have never heard of, Gillian Lynne. Have you heard of her? Some have. She\\'s a choreographer, and everybody knows her work. She did \"Cats\" and \"Phantom of the Opera.\" She\\'s wonderful. I used to be on the board of The Royal Ballet, as you can see. Anyway, Gillian and I had lunch one day and I said, \"How did you get to be a dancer?\" It was interesting. When she was at school, she was really hopeless. And the school, in the \\'30s, wrote to her parents and said, \"We think Gillian has a learning disorder.\" She couldn\\'t concentrate; she was fidgeting. I think now they\\'d say she had ADHD. Wouldn\\'t you? But this was the 1930s, and ADHD hadn\\'t been invented at this point. It wasn\\'t an available condition.(Laughter)People weren\\'t aware they could have that.(Laughter)Anyway, she went to see this specialist. So, this oak-paneled room, and she was there with her mother, and she was led and sat on this chair at the end, and she sat on her hands for 20 minutes while this man talked to her mother about the problems Gillian was having at school. Because she was disturbing people; her homework was always late; and so on, little kid of eight. In the end, the doctor went and sat next to Gillian, and said, \"I\\'ve listened to all these things your mother\\'s told me, I need to speak to her privately. Wait here. We\\'ll be back; we won\\'t be very long,\" and they went and left her.But as they went out of the room, he turned on the radio that was sitting on his desk. And when they got out, he said to her mother, \"Just stand and watch her.\" And the minute they left the room, she was on her feet, moving to the music. And they watched for a few minutes and he turned to her mother and said, \"Mrs. Lynne, Gillian isn\\'t sick; she\\'s a dancer. Take her to a dance school.\"I said, \"What happened?\" She said, \"She did. I can\\'t tell you how wonderful it was. We walked in this room and it was full of people like me. People who couldn\\'t sit still. People who had to move to think.\" Who had to move to think. They did ballet, they did tap, jazz; they did modern; they did contemporary. She was eventually auditioned for the Royal Ballet School; she became a soloist; she had a wonderful career at the Royal Ballet. She eventually graduated from the Royal Ballet School, founded the Gillian Lynne Dance Company, met Andrew Lloyd Webber. She\\'s been responsible for some of the most successful musical theater productions in history, she\\'s given pleasure to millions, and she\\'s a multi-millionaire. Somebody else might have put her on medication and told her to calm down.(Applause)What I think it comes to is this: Al Gore spoke the other night about ecology and the revolution that was triggered by Rachel Carson. I believe our only hope for the future is to adopt a new conception of human ecology, one in which we start to reconstitute our conception of the richness of human capacity. Our education system has mined our minds in the way that we strip-mine the earth: for a particular commodity. And for the future, it won\\'t serve us. We have to rethink the fundamental principles on which we\\'re educating our children.There was a wonderful quote by Jonas Salk, who said, \"If all the insects were to disappear from the Earth, within 50 years all life on Earth would end. If all human beings disappeared from the Earth, within 50 years all forms of life would flourish.\" And he\\'s right.What TED celebrates is the gift of the human imagination. We have to be careful now that we use this gift wisely and that we avert some of the scenarios that we\\'ve talked about. And the only way we\\'ll do it is by seeing our creative capacities for the richness they are and seeing our children for the hope that they are. And our task is to educate their whole being, so they can face this future. By the way — we may not see this future, but they will. And our job is to help them make something of it.Thank you very much.(Applause)', 'Thank you so much, Chris. And it\\'s truly a great honor to have the opportunity to come to this stage twice; I\\'m extremely grateful. I have been blown away by this conference, and I want to thank all of you for the many nice comments about what I had to say the other night. And I say that sincerely, partly because (Mock sob) I need that.(Laughter)Put yourselves in my position.(Laughter)I flew on Air Force Two for eight years.(Laughter)Now I have to take off my shoes or boots to get on an airplane!(Laughter)(Applause)I\\'ll tell you one quick story to illustrate what that\\'s been like for me.(Laughter)It\\'s a true story — every bit of this is true.Soon after Tipper and I left the — (Mock sob) White House —(Laughter)we were driving from our home in Nashville to a little farm we have 50 miles east of Nashville. Driving ourselves.(Laughter)I know it sounds like a little thing to you, but —(Laughter)I looked in the rear-view mirror and all of a sudden it just hit me. There was no motorcade back there.(Laughter)You\\'ve heard of phantom limb pain?(Laughter)This was a rented Ford Taurus.(Laughter)It was dinnertime, and we started looking for a place to eat. We were on I-40. We got to Exit 238, Lebanon, Tennessee. We got off the exit, we found a Shoney\\'s restaurant. Low-cost family restaurant chain, for those of you who don\\'t know it. We went in and sat down at the booth, and the waitress came over, made a big commotion over Tipper.(Laughter)She took our order, and then went to the couple in the booth next to us, and she lowered her voice so much, I had to really strain to hear what she was saying. And she said \"Yes, that\\'s former Vice President Al Gore and his wife, Tipper.\" And the man said, \"He\\'s come down a long way, hasn\\'t he?\"(Laughter)(Applause)There\\'s been kind of a series of epiphanies.(Laughter)The very next day, continuing the totally true story, I got on a G-V to fly to Africa to make a speech in Nigeria, in the city of Lagos, on the topic of energy. And I began the speech by telling them the story of what had just happened the day before in Nashville. And I told it pretty much the same way I\\'ve just shared it with you: Tipper and I were driving ourselves, Shoney\\'s, low-cost family restaurant chain, what the man said — they laughed. I gave my speech, then went back out to the airport to fly back home. I fell asleep on the plane until, during the middle of the night, we landed on the Azores Islands for refueling. I woke up, they opened the door, I went out to get some fresh air, and I looked, and there was a man running across the runway. And he was waving a piece of paper, and he was yelling, \"Call Washington! Call Washington!\" And I thought to myself, in the middle of the night, in the middle of the Atlantic, what in the world could be wrong in Washington? Then I remembered it could be a bunch of things.(Laughter)But what it turned out to be, was that my staff was extremely upset because one of the wire services in Nigeria had already written a story about my speech, and it had already been printed in cities all across the United States of America. It was printed in Monterey, I checked.(Laughter)And the story began, \"Former Vice President Al Gore announced in Nigeria yesterday,\" quote: \\'My wife Tipper and I have opened a low-cost family restaurant\\'\" —(Laughter)\"\\'named Shoney\\'s, and we are running it ourselves.\\'\"(Laughter)Before I could get back to U.S. soil, David Letterman and Jay Leno had already started in on — one of them had me in a big white chef\\'s hat, Tipper was saying, \"One more burger with fries!\"(Laughter)Three days later, I got a nice, long, handwritten letter from my friend and partner and colleague Bill Clinton, saying, \"Congratulations on the new restaurant, Al!\"(Laughter)We like to celebrate each other\\'s successes in life.(Laughter)I was going to talk about information ecology. But I was thinking that, since I plan to make a lifelong habit of coming back to TED, that maybe I could talk about that another time.(Applause)Chris Anderson: It\\'s a deal!(Applause)Al Gore: I want to focus on what many of you have said you would like me to elaborate on: What can you do about the climate crisis? I want to start with a couple of — I\\'m going to show some new images, and I\\'m going to recapitulate just four or five. Now, the slide show. I update the slide show every time I give it. I add new images, because I learn more about it every time I give it. It\\'s like beach-combing, you know? Every time the tide comes in and out, you find some more shells. Just in the last two days, we got the new temperature records in January. This is just for the United States of America. Historical average for Januarys is 31 degrees; last month was 39.5 degrees.Now, I know that you wanted some more bad news about the environment — I\\'m kidding. But these are the recapitulation slides, and then I\\'m going to go into new material about what you can do. But I wanted to elaborate on a couple of these. First of all, this is where we\\'re projected to go with the U.S. contribution to global warming, under business as usual. Efficiency in end-use electricity and end-use of all energy is the low-hanging fruit. Efficiency and conservation — it\\'s not a cost; it\\'s a profit. The sign is wrong. It\\'s not negative; it\\'s positive. These are investments that pay for themselves. But they are also very effective in deflecting our path.Cars and trucks — I talked about that in the slideshow, but I want you to put it in perspective. It\\'s an easy, visible target of concern — and it should be — but there is more global warming pollution that comes from buildings than from cars and trucks. Cars and trucks are very significant, and we have the lowest standards in the world. And so we should address that. But it\\'s part of the puzzle. Other transportation efficiency is as important as cars and trucks. Renewables at the current levels of technological efficiency can make this much difference. And with what Vinod, and John Doerr and others, many of you here — there are a lot of people directly involved in this — this wedge is going to grow much more rapidly than the current projection shows it. Carbon Capture and Sequestration — that\\'s what CCS stands for — is likely to become the killer app that will enable us to continue to use fossil fuels in a way that is safe. Not quite there yet. OK. Now, what can you do?Reduce emissions in your home. Most of these expenditures are also profitable. Insulation, better design. Buy green electricity where you can. I mentioned automobiles — buy a hybrid. Use light rail. Figure out some of the other options that are much better. It\\'s important.Be a green consumer. You have choices with everything you buy, between things that have a harsh effect, or a much less harsh effect on the global climate crisis. Consider this: Make a decision to live a carbon-neutral life. Those of you who are good at branding, I\\'d love to get your advice and help on how to say this in a way that connects with the most people. It is easier than you think. It really is. A lot of us in here have made that decision, and it is really pretty easy. It means reduce your carbon dioxide emissions with the full range of choices that you make, and then purchase or acquire offsets for the remainder that you have not completely reduced. And what it means is elaborated at climatecrisis.net.There is a carbon calculator. Participant Productions convened — with my active involvement — the leading software writers in the world, on this arcane science of carbon calculation, to construct a consumer-friendly carbon calculator. You can very precisely calculate what your CO2 emissions are, and then you will be given options to reduce. And by the time the movie comes out in May, this will be updated to 2.0, and we will have click-through purchases of offsets.Next, consider making your business carbon-neutral. Again, some of us have done that, and it\\'s not as hard as you think. Integrate climate solutions into all of your innovations, whether you are from the technology, or entertainment, or design and architecture community. Invest sustainably. Majora mentioned this. Listen, if you have invested money with managers who you compensate on the basis of their annual performance, don\\'t ever again complain about quarterly report CEO management. Over time, people do what you pay them to do. And if they judge how much they\\'re going to get paid on your capital that they\\'ve invested, based on the short-term returns, you\\'re going to get short-term decisions. A lot more to be said about that.Become a catalyst of change. Teach others, learn about it, talk about it. The movie is a movie version of the slideshow I gave two nights ago, except it\\'s a lot more entertaining. And it comes out in May. Many of you here have the opportunity to ensure that a lot of people see it. Consider sending somebody to Nashville. Pick well. And I am personally going to train people to give this slideshow — re-purposed, with some of the personal stories obviously replaced with a generic approach, and it\\'s not just the slides, it\\'s what they mean. And it\\'s how they link together. And so I\\'m going to be conducting a course this summer for a group of people that are nominated by different folks to come and then give it en masse, in communities all across the country, and we\\'re going to update the slideshow for all of them every single week, to keep it right on the cutting edge. Working with Larry Lessig, it will be, somewhere in that process, posted with tools and limited-use copyrights, so that young people can remix it and do it in their own way.(Applause)Where did anybody get the idea that you ought to stay arm\\'s length from politics? It doesn\\'t mean that if you\\'re a Republican, that I\\'m trying to convince you to be a Democrat. We need Republicans as well. This used to be a bipartisan issue, and I know that in this group it really is. Become politically active. Make our democracy work the way it\\'s supposed to work. Support the idea of capping carbon dioxide emissions — global warming pollution — and trading it. Here\\'s why: as long as the United States is out of the world system, it\\'s not a closed system. Once it becomes a closed system, with U.S. participation, then everybody who\\'s on a board of directors — how many people here serve on the board of directors of a corporation? Once it\\'s a closed system, you will have legal liability if you do not urge your CEO to get the maximum income from reducing and trading the carbon emissions that can be avoided. The market will work to solve this problem — if we can accomplish this. Help with the mass persuasion campaign that will start this spring. We have to change the minds of the American people. Because presently, the politicians do not have permission to do what needs to be done.And in our modern country, the role of logic and reason no longer includes mediating between wealth and power the way it once did. It\\'s now repetition of short, hot-button, 30-second, 28-second television ads. We have to buy a lot of those ads. Let\\'s re-brand global warming, as many of you have suggested. I like \"climate crisis\" instead of \"climate collapse,\" but again, those of you who are good at branding, I need your help on this. Somebody said the test we\\'re facing now, a scientist told me, is whether the combination of an opposable thumb and a neocortex is a viable combination.(Laughter)That\\'s really true.I said the other night, and I\\'ll repeat now: this is not a political issue. Again, the Republicans here — this shouldn\\'t be partisan. You have more influence than some of us who are Democrats do. This is an opportunity. Not just this, but connected to the ideas that are here, to bring more coherence to them. We are one.Thank you very much, I appreciate it.(Applause)', '(Music: \"The Sound of Silence,\" Simon & Garfunkel)Hello voice mail, my old friend.(Laughter)I\\'ve called for tech support again. I ignored my boss\\'s warning. I called on a Monday morning. Now it\\'s evening, and my dinner first grew cold, and then grew mold. I\\'m still on hold. I\\'m listening to the sounds of silence. I don\\'t think you understand. I think your phone lines are unmanned. I punched every touch tone I was told, but I\\'ve still spent 18 hours on hold. It\\'s not enough your software crashed my Mac, and it constantly hangs and bombs — it erased my ROMs! Now the Mac makes the sounds of silence. In my dreams I fantasize of wreaking vengeance on you guys. Say your motorcycle crashes. Blood comes gushing from your gashes. With your fading strength, you call 9-1-1 and you pray for a trained MD. But you get me.(Laughter)And you listen to the sounds of silence.(Music)(Applause)Thank you.Good evening and welcome to: \"Spot the TED Presenter Who Used to Be a Broadway Accompanist.\"(Laughter)When I was offered the Times column six years ago, the deal was like this: you\\'ll be sent the coolest, hottest, slickest new gadgets. Every week, it\\'ll arrive at your door. You get to try them out, play with them, evaluate them until the novelty wears out, before you have to send them back, and you\\'ll get paid for it. You can think about it, if you want. So, I\\'ve always been a technology nut, and I absolutely love it. The job, though, came with one small downside, and that is, they intended to publish my email address at the end of every column. And what I\\'ve noticed is — first of all, you get an incredible amount of email.If you ever are feeling lonely, get a New York Times column, because you will get hundreds and hundreds and hundreds of emails. And the email I\\'m getting a lot today is about frustration. People are feeling like things — Ok, I just had an alarm come up on my screen. Lucky you can\\'t see it. People are feeling overwhelmed. They\\'re feeling like it\\'s too much technology, too fast. It may be good technology, but I feel like there\\'s not enough of a support structure. There\\'s not enough help. There\\'s not enough thought put into the design of it to make it easy and enjoyable to use. One time I wrote a column about my efforts to reach Dell Technical Support, and within 12 hours, there were 700 messages from readers on the feedback boards on the Times website, from users saying, \"\"Me too, and here\\'s my tale of woe.\" I call it \"software rage.\" And man, let me tell you, whoever figures out how to make money off of this frustration will — Oh, how did that get up there? Just kidding.(Laughter)Ok, so why is the problem accelerating? And part of the problem is, ironically, because the industry has put so much thought into making things easier to use. I\\'ll show you what I mean. This is what the computer interface used to look like, DOS. Over the years, it\\'s gotten easier to use. This is the original Mac operating system. Reagan was President. Madonna was still a brunette. And the entire operating system — this is the good part — the entire operating system fit in 211 k. You couldn\\'t put the Mac OS X logo in 211 k!(Laughter)So the irony is, that as these things became easier to use, a less technical, broader audience was coming into contact with this equipment for the first time.I once had the distinct privilege of sitting in on the Apple call center for a day. The guy had a duplicate headset for me to listen to. And the calls that — you know how they say, \"Your call may be recorded for quality assurance?\" Uh-uh. Your call may be recorded so that they can collect the funniest dumb user stories and pass them around on a CD.(Laughter)Which they do.(Laughter)And I have a copy.(Laughter)It\\'s in your gift bag. No, no. With your voices on it!So, some of the stories are just so classic, and yet so understandable. A woman called Apple to complain that her mouse was squeaking. Making a squeaking noise. And the technician said,\"Well, ma\\'am, what do you mean your mouse is squeaking?\"She says, \"All I can tell you is that it squeaks louder, the faster I move it across the screen.\"(Laughter)And the technician\\'s like, \"Ma\\'am, you\\'ve got the mouse up against the screen?\"She goes, \"Well, the message said, \\'Click here to continue.\\'\"(Laughter)Well, if you like that one — how much time have we got? Another one, a guy called — this is absolutely true — his computer had crashed, and he told the technician he couldn\\'t restart it, no matter how many times he typed \"11.\" And the technician said, \"What? Why are you typing 11?\" He said, \"The message says, \\'Error Type 11.\\'\"(Laughter)So, we must admit that some of the blame falls squarely at the feet of the users. But why is the technical overload crisis, the complexity crisis, accelerating now?In the hardware world, it\\'s because we the consumers want everything to be smaller, smaller, smaller. So the gadgets are getting tinier and tinier, but our fingers are essentially staying the same size. So it gets to be more and more of a challenge. Software is subject to another primal force: the mandate to release more and more versions. When you buy a piece of software, it\\'s not like buying a vase or a candy bar, where you own it. It\\'s more like joining a club, where you pay dues every year, and every year, they say, \"We\\'ve added more features, and we\\'ll sell it to you for $99.\" I know one guy who\\'s spent $4,000 just on Photoshop over the years. And software companies make 35 percent of their revenue from just these software upgrades. I call it the Software Upgrade Paradox — which is that if you improve a piece of software enough times, you eventually ruin it.I mean, Microsoft Word was last just a word processor in, you know, the Eisenhower administration.(Laughter)But what\\'s the alternative? Microsoft actually did this experiment. They said, \"Well, wait a minute. Everyone complains that we\\'re adding so many features. Let\\'s create a word processor that\\'s just a word processor: Simple, pure; does not do web pages, is not a database.\" And it came out, and it was called Microsoft Write. And none of you are nodding in acknowledgment, because it died. It tanked. No one ever bought it. I call this the Sport Utility Principle. People like to surround themselves with unnecessary power, right? They don\\'t need the database and the website, but they\\'re like, \"Well, I\\'ll upgrade, because, I might, you know, I might need that someday.\" So the problem is: as you add more features, where are they going to go? Where are you going to stick them? You only have so many design tools. You can do buttons, you can do sliders, pop-up menus, sub-menus. But if you\\'re not careful about how you choose, you wind up with this.(Laughter)This is an un-retouched — this is not a joke — un-retouched photo of Microsoft Word, the copy that you have, with all the toolbars open. You\\'ve obviously never opened all the toolbars, but all you have to type in is this little, teeny window down here.(Laughter)And we\\'ve arrived at the age of interface matrices, where there are so many features and options, you have to do two dimensions, you know: a vertical and a horizontal. You guys all complain about how Microsoft Word is always bulleting your lists and underlining your links automatically. The off switch is in there somewhere. I\\'m telling you — it\\'s there. Part of the art of designing a simple, good interface, is knowing when to use which one of these features. So, here is the log-off dialogue box for Windows 2000. There are only four choices, so why are they in a pop-up menu? It\\'s not like the rest of the screen is so full of other components that you need to collapse the choices. They could have put them all out in view.Here\\'s Apple\\'s take on the exact same dialogue box.(Applause)Thank you — yes, I designed the dialogue box. No, no. Already, we can see that Apple and Microsoft have a severely divergent approach to software design. Microsoft\\'s approach to simplicity tends to be: let\\'s break it down; let\\'s just make it more steps. There are these \"wizards\" everywhere. And you know, there\\'s a new version of Windows coming out this fall. If they continue at this pace, there\\'s absolutely no telling where they might wind up.[Welcome to the Type a Word Wizard](Laughter)(Applause)\"Welcome to the Type a Word Wizard.\" Ok, I\\'ll bite. Let\\'s click \"Next\" to continue.(Laughter)(Applause)From the drop-down menu, choose the first letter you want to type. Ok.(Laughter)So there is a limit that we don\\'t want to cross. So what is the answer? How do you pack in all these features in a simple, intelligent way? I believe in consistency, when possible, real-world equivalents, trash can folder, when possible, label things, mostly. But I beg of the designers here to break all those rules if they violate the biggest rule of all, which is intelligence. Now what do I mean by that? I\\'m going to give you some examples where intelligence makes something not consistent, but it\\'s better.If you are buying something on the web, you\\'re supposed to put in your address, and you\\'re supposed to choose what country you\\'re from, ok? There are 200 countries in the world. We like to think of the Internet as a global village. I\\'m sorry; it\\'s not one yet. It\\'s mainly like, the United States, Europe, and Japan. So why is \"United States\" in the \"U\"s?(Laughter)You have to scroll, like, seven screensful to get to it. Now, it would be inconsistent to put \"United States\" first, but it would be intelligent.This one\\'s been touched on before, but why in God\\'s name do you shut down a Windows PC by clicking a button called \"Start?\"(Laughter)Here\\'s another pet one of mine: you have a printer. Most of the time, you want to print one copy of your document, in page order, on that printer. So why in God\\'s name do you see this every time you print? It\\'s like a 747 shuttle cockpit.(Laughter)And one of the buttons at the bottom, you\\'ll notice, is not \"Print.\"(Laughter)(Applause)Now, I\\'m not saying that Apple is the only company who has embraced the cult of simplicity. Palm is also, especially in the old days, wonderful about this. I actually got to speak to Palm when they were flying high in the \\'90s, and after the talk, I met one of the employees. He says, \"Nice talk.\" And I said, \"Thank you. What do you do here?\" He said, \"I\\'m a tap counter.\" I\\'m like, \"You\\'re a what?\" He goes, \"Well Jeff Hawkins, the CEO, says, \\'If any task on the Palm Pilot takes more than three taps of the stylus, it\\'s too long, and it has to be redesigned.\\' So I\\'m the tap counter.\" So, I\\'m going to show you an example of a company that does not have a tap counter.(Laughter)This is Microsoft Word. Ok, when you want to create a new blank document in Word — it could happen.(Laughter)You go up to the \"File\" menu and you choose \"New.\" Now, what happens when you choose \"New?\" Do you get a new blank document? You do not. On the opposite side of the monitor, a task bar appears, and somewhere in those links — by the way, not at the top — somewhere in those links is a button that makes you a new document. Ok, so that is a company not counting taps. You know, I don\\'t want to just stand here and make fun of Microsoft ... Yes, I do.(Laughter)(Applause)The Bill Gates song!(Piano music)I\\'ve been a geek forever and I wrote the very first DOS. I put my software and IBM together; I got profit and they got the loss.(Laughter)I write the code that makes the whole world run. I\\'m getting royalties from everyone. Sometimes it\\'s garbage, but the press is snowed. You buy the box; I\\'ll sell the code. Every software company is doing Microsoft\\'s R&D. You can\\'t keep a good idea down these days. Even Windows is a hack. We\\'re kind of based loosely on the Mac. So it\\'s big, so it\\'s slow. You\\'ve got nowhere to go. I\\'m not doing this for praise. I write the code that fits the world today. Big mediocrity in every way. We\\'ve entered planet domination mode. You\\'ll have no choice; you\\'ll buy my code. I am Bill Gates and I write the code.(Applause)But actually, I believe there are really two Microsofts. There\\'s the old one, responsible for Windows and Office. They\\'re dying to throw the whole thing out and start fresh, but they can\\'t. They\\'re locked in, because so many add-ons and other company stuff locks into the old 1982 chassis. But there\\'s also a new Microsoft, that\\'s really doing good, simple interface designs. I liked the Media Center PC. I liked the Microsoft SPOT Watch. The Wireless Watch flopped miserably in the market, but it wasn\\'t because it wasn\\'t simply and beautifully designed. But let\\'s put it this way: would you pay $10 a month to have a watch that has to be recharged every night like your cell phone, and stops working when you leave your area code?(Laughter)So, the signs might indicate that the complexity crunch is only going to get worse. So is there any hope? The screens are getting smaller, people are illuminating, putting manuals in the boxes, things are coming out at a faster pace. It\\'s funny — when Steve Jobs came back to Apple in 1997, after 12 years away, it was the MacWorld Expo — he came to the stage in that black turtleneck and jeans, and he sort of did this. The crowd went wild, but I had just seen — I\\'m like, where have I seen this before? I had just seen the movie \"Evita\" —(Laughter)with Madonna, and I\\'m like, you know what? I\\'ve got to do one about Steve Jobs.(Music)It won\\'t be easy. You\\'ll think I\\'m strange.(Laughter)When I try to explain why I\\'m back, after telling the press Apple\\'s future is black. You won\\'t believe me. All that you see is a kid in his teens who started out in a garage with only a buddy named Woz.(Laughter)You try rhyming with garage!(Laughter)Don\\'t cry for me, Cupertino.(Laughter)The truth is, I never left you. I know the ropes now, know what the tricks are. I made a fortune over at Pixar.(Laughter)Don\\'t cry for me, Cupertino. I\\'ve still got the drive and vision. I still wear sandals in any weather. It\\'s just that these days, they\\'re Gucci leather.(Laughter)(Applause)Thank you.So Steve Jobs had always believed in simplicity and elegance and beauty. And the truth is, for years I was a little depressed, because Americans obviously did not value it, because the Mac had three percent market share, Windows had 95 percent market share — people did not think it was worth putting a price on it. So I was a little depressed. And then I heard Al Gore\\'s talk, and I realized I didn\\'t know the meaning of depressed.(Laughter)But it turns out I was wrong, right? Because the iPod came out, and it violated every bit of common wisdom. Other products cost less; other products had more features, they had voice recorders and FM transmitters. The other products were backed by Microsoft, with an open standard, not Apple\\'s propriety standard. But the iPod won — this is the one they wanted. The lesson was: simplicity sells. And there are signs that the industry is getting the message. This is a little company that\\'s done very well with simplicity and elegance. The Sonos thing — it\\'s catching on.I\\'ve got just a couple examples. Physically, a really cool, elegant thinking coming along lately. When you have a digital camera, how do you get the pictures back to your computer? Well, you either haul around a USB cable, or you buy a card reader and haul that around. Either one, you\\'re going to lose. What I do is, I take out the memory card, and I fold it in half, revealing USB contacts. I just stick it in the computer, offload the pictures, put it right back in the camera. I never have to lose anything. Here\\'s another example. Chris, you\\'re the source of all power. Will you be my power plug?Chris Anderson: Oh yeah. DP: Hold that and don\\'t let go. You might\\'ve seen this, this is Apple\\'s new laptop. This the power cord. It hooks on like this. And I\\'m sure every one of you has done this at some point in your lives, or one of your children. You walk along — and I\\'m about to pull this onto the floor. I don\\'t care. It\\'s a loaner. Here we go. Whoa! It\\'s magnetic — it doesn\\'t pull the laptop onto the floor.(Applause)In my very last example — I do a lot of my work using speech recognition software. And I\\'ll just — you have to be kind of quiet because the software is nervous. Speech recognition software is really great for doing emails very quickly; period. Like, I get hundreds of them a day; period. And it\\'s not just what I dictate that it writes down; period. I also use this feature called voice macros; period. Correct \"dissuade.\" Not \"just.\" Ok, this is not an ideal situation, because it\\'s getting the echo from the hall and stuff. The point is, I can respond to people very quickly by saying a short word, and having it write out a much longer thing. So if somebody sends me a fan letter, I\\'ll say, \"Thanks for that.\"[Thank you so much for taking the time to write ...](Laughter)(Applause)And conversely, if somebody sends me hate mail — which happens daily — I say, \"Piss off.\"(Laughter)[I admire your frankness ...](Laughter)(Applause)So that\\'s my dirty little secret. Don\\'t tell anyone.(Laughter)So the point is — this is a really interesting story. This is version eight of this software, and do you know what they put in version eight? No new features. It\\'s never happened before in software! The company put no new features. They just said, \"We\\'ll make this software work right.\" Right? Because for years, people had bought this software, tried it out — 95 percent accuracy was all they got, which means one in 20 words is wrong — and they\\'d put it in their drawer. And the company got sick of that, so they said, \"This version, we\\'re not going to do anything, but make sure it\\'s darned accurate.\" And so that\\'s what they did.This cult of doing things right is starting to spread. So, my final advice for those of you who are consumers of this technology: remember, if it doesn\\'t work, it\\'s not necessarily you, ok? It could be the design of the thing you\\'re using. Be aware in life of good design and bad design. And if you\\'re among the people who create this stuff: Easy is hard. Pre-sweat the details for your audience. Count the taps. Remember, the hard part is not deciding what features to add, it\\'s deciding what to leave out. And best of all, your motivation is: simplicity sells.CA: Bravo. DP: Thank you very much.CA: Hear, hear!(Applause)', 'If you\\'re here today — and I\\'m very happy that you are — you\\'ve all heard about how sustainable development will save us from ourselves. However, when we\\'re not at TED, we are often told that a real sustainability policy agenda is just not feasible, especially in large urban areas like New York City. And that\\'s because most people with decision-making powers, in both the public and the private sector, really don\\'t feel as though they\\'re in danger.The reason why I\\'m here today, in part, is because of a dog — an abandoned puppy I found back in the rain, back in 1998. She turned out to be a much bigger dog than I\\'d anticipated. When she came into my life, we were fighting against a huge waste facility planned for the East River waterfront despite the fact that our small part of New York City already handled more than 40 percent of the entire city\\'s commercial waste: a sewage treatment pelletizing plant, a sewage sludge plant, four power plants, the world\\'s largest food-distribution center, as well as other industries that bring more than 60,000 diesel truck trips to the area each week. The area also has one of the lowest ratios of parks to people in the city.So when I was contacted by the Parks Department about a $10,000 seed-grant initiative to help develop waterfront projects, I thought they were really well-meaning, but a bit naive. I\\'d lived in this area all my life, and you could not get to the river, because of all the lovely facilities that I mentioned earlier. Then, while jogging with my dog one morning, she pulled me into what I thought was just another illegal dump. There were weeds and piles of garbage and other stuff that I won\\'t mention here, but she kept dragging me, and lo and behold, at the end of that lot was the river. I knew that this forgotten little street-end, abandoned like the dog that brought me there, was worth saving. And I knew it would grow to become the proud beginnings of the community-led revitalization of the new South Bronx.And just like my new dog, it was an idea that got bigger than I\\'d imagined. We garnered much support along the way, and the Hunts Point Riverside Park became the first waterfront park that the South Bronx had had in more than 60 years. We leveraged that $10,000 seed grant more than 300 times, into a $3 million park.And in the fall, I\\'m going to exchange marriage vows with my beloved.(Audience whistles)Thank you very much.(Applause)That\\'s him pressing my buttons back there, which he does all the time.(Laughter)(Applause)But those of us living in environmental justice communities are the canary in the coal mine. We feel the problems right now, and have for some time. Environmental justice, for those of you who may not be familiar with the term, goes something like this: no community should be saddled with more environmental burdens and less environmental benefits than any other.Unfortunately, race and class are extremely reliable indicators as to where one might find the good stuff, like parks and trees, and where one might find the bad stuff, like power plants and waste facilities. As a black person in America, I am twice as likely as a white person to live in an area where air pollution poses the greatest risk to my health. I am five times more likely to live within walking distance of a power plant or chemical facility, which I do. These land-use decisions created the hostile conditions that lead to problems like obesity, diabetes and asthma. Why would someone leave their home to go for a brisk walk in a toxic neighborhood? Our 27 percent obesity rate is high even for this country, and diabetes comes with it. One out of four South Bronx children has asthma. Our asthma hospitalization rate is seven times higher than the national average. These impacts are coming everyone\\'s way. And we all pay dearly for solid waste costs, health problems associated with pollution and more odiously, the cost of imprisoning our young black and Latino men, who possess untold amounts of untapped potential. Fifty percent of our residents live at or below the poverty line; 25 percent of us are unemployed. Low-income citizens often use emergency-room visits as primary care. This comes at a high cost to taxpayers and produces no proportional benefits. Poor people are not only still poor, they are still unhealthy.Fortunately, there are many people like me who are striving for solutions that won\\'t compromise the lives of low-income communities of color in the short term, and won\\'t destroy us all in the long term. None of us want that, and we all have that in common. So what else do we have in common?Well, first of all, we\\'re all incredibly good-looking.(Laughter)Graduated high school, college, post-graduate degrees, traveled to interesting places, didn\\'t have kids in your early teens, financially stable, never been imprisoned. OK. Good.(Laughter)But, besides being a black woman, I am different from most of you in some other ways. I watched nearly half of the buildings in my neighborhood burn down. My big brother Lenny fought in Vietnam, only to be gunned down a few blocks from our home. Jesus. I grew up with a crack house across the street. Yeah, I\\'m a poor black child from the ghetto. These things make me different from you. But the things we have in common set me apart from most of the people in my community, and I am in between these two worlds with enough of my heart to fight for justice in the other.So how did things get so different for us? In the late \\'40s, my dad — a Pullman porter, son of a slave — bought a house in the Hunts Point section of the South Bronx, and a few years later, he married my mom. At the time, the community was a mostly white, working-class neighborhood. My dad was not alone. And as others like him pursued their own version of the American dream, white flight became common in the South Bronx and in many cities around the country. Red-lining was used by banks, wherein certain sections of the city, including ours, were deemed off-limits to any sort of investment. Many landlords believed it was more profitable to torch their buildings and collect insurance money rather than to sell under those conditions — dead or injured former tenants notwithstanding.Hunts Point was formerly a walk-to-work community, but now residents had neither work nor home to walk to. A national highway construction boom was added to our problems. In New York State, Robert Moses spearheaded an aggressive highway-expansion campaign. One of its primary goals was to make it easier for residents of wealthy communities in Westchester County to go to Manhattan. The South Bronx, which lies in between, did not stand a chance. Residents were often given less than a month\\'s notice before their buildings were razed. 600,000 people were displaced. The common perception was that only pimps and pushers and prostitutes were from the South Bronx. And if you are told from your earliest days that nothing good is going to come from your community, that it\\'s bad and ugly, how could it not reflect on you? So now, my family\\'s property was worthless, save for that it was our home, and all we had. And luckily for me, that home and the love inside of it, along with help from teachers, mentors and friends along the way, was enough.Now, why is this story important? Because from a planning perspective, economic degradation begets environmental degradation, which begets social degradation. The disinvestment that began in the 1960s set the stage for all the environmental injustices that were to come. Antiquated zoning and land-use regulations are still used to this day to continue putting polluting facilities in my neighborhood. Are these factors taken into consideration when land-use policy is decided? What costs are associated with these decisions? And who pays? Who profits? Does anything justify what the local community goes through? This was \"planning\" — in quotes — that did not have our best interests in mind.Once we realized that, we decided it was time to do our own planning. That small park I told you about earlier was the first stage of building a Greenway movement in the South Bronx. I wrote a one-and-a-quarter-million dollar federal transportation grant to design the plan for a waterfront esplanade with dedicated on-street bike paths. Physical improvements help inform public policy regarding traffic safety, the placement of the waste and other facilities, which, if done properly, don\\'t compromise a community\\'s quality of life. They provide opportunities to be more physically active, as well as local economic development. Think bike shops, juice stands. We secured 20 million dollars to build first-phase projects. This is Lafayette Avenue — and that\\'s redesigned by Mathews Nielsen Landscape Architects. And once this path is constructed, it\\'ll connect the South Bronx with more than 400 acres of Randall\\'s Island Park. Right now we\\'re separated by about 25 feet of water, but this link will change that.As we nurture the natural environment, its abundance will give us back even more. We run a project called the Bronx [Environmental] Stewardship Training, which provides job training in the fields of ecological restoration, so that folks from our community have the skills to compete for these well-paying jobs. Little by little, we\\'re seeding the area with green-collar jobs — and with people that have both a financial and personal stake in their environment. The Sheridan Expressway is an underutilized relic of the Robert Moses era, built with no regard for the neighborhoods that were divided by it. Even during rush hour, it goes virtually unused. The community created an alternative transportation plan that allows for the removal of the highway. We have the opportunity now to bring together all the stakeholders to re-envision how this 28 acres can be better utilized for parkland, affordable housing and local economic development.We also built New York City\\'s first green and cool roof demonstration project on top of our offices. Cool roofs are highly-reflective surfaces that don\\'t absorb solar heat, and pass it on to the building or atmosphere. Green roofs are soil and living plants. Both can be used instead of petroleum-based roofing materials that absorb heat, contribute to urban \"heat island\" effect and degrade under the sun, which we in turn breathe. Green roofs also retain up to 75 percent of rainfall, so they reduce a city\\'s need to fund costly end-of-pipe solutions — which, incidentally, are often located in environmental justice communities like mine. And they provide habitats for our little friends![Butterfly](Laughter)So cool!Anyway, the demonstration project is a springboard for our own green roof installation business, bringing jobs and sustainable economic activity to the South Bronx.[Green is the new black ...](Laughter) (Applause)I like that, too.Anyway, I know Chris told us not to do pitches up here, but since I have all of your attention: We need investors. End of pitch. It\\'s better to ask for forgiveness than permission. Anyway —(Laughter)(Applause)OK. Katrina.Prior to Katrina, the South Bronx and New Orleans\\' Ninth Ward had a lot in common. Both were largely populated by poor people of color, both hotbeds of cultural innovation: think hip-hop and jazz. Both are waterfront communities that host both industries and residents in close proximity of one another. In the post-Katrina era, we have still more in common. We\\'re at best ignored, and maligned and abused, at worst, by negligent regulatory agencies, pernicious zoning and lax governmental accountability. Neither the destruction of the Ninth Ward nor the South Bronx was inevitable. But we have emerged with valuable lessons about how to dig ourselves out. We are more than simply national symbols of urban blight or problems to be solved by empty campaign promises of presidents come and gone. Now will we let the Gulf Coast languish for a decade or two, like the South Bronx did? Or will we take proactive steps and learn from the homegrown resource of grassroots activists that have been born of desperation in communities like mine?Now listen, I do not expect individuals, corporations or government to make the world a better place because it is right or moral. This presentation today only represents some of what I\\'ve been through. Like a tiny little bit. You\\'ve no clue. But I\\'ll tell you later, if you want to know.(Laughter)But — I know it\\'s the bottom line, or one\\'s perception of it, that motivates people in the end. I\\'m interested in what I like to call the \"triple bottom line\" that sustainable development can produce. Developments that have the potential to create positive returns for all concerned: the developers, government and the community where these projects go up.At present, that\\'s not happening in New York City. And we are operating with a comprehensive urban-planning deficit. A parade of government subsidies is going to propose big-box and stadium developments in the South Bronx, but there is scant coordination between city agencies on how to deal with the cumulative effects of increased traffic, pollution, solid waste and the impacts on open space. And their approaches to local economic and job development are so lame it\\'s not even funny. Because on top of that, the world\\'s richest sports team is replacing the House That Ruth Built by destroying two well-loved community parks. Now, we\\'ll have even less than that stat I told you about earlier. And although less than 25 percent of South Bronx residents own cars, these projects include thousands of new parking spaces, yet zip in terms of mass public transit. Now, what\\'s missing from the larger debate is a comprehensive cost-benefit analysis between not fixing an unhealthy, environmentally-challenged community, versus incorporating structural, sustainable changes. My agency is working closely with Columbia University and others to shine a light on these issues.Now let\\'s get this straight: I am not anti-development. Ours is a city, not a wilderness preserve. And I\\'ve embraced my inner capitalist. And, but I don\\'t have —(Laughter)You probably all have, and if you haven\\'t, you need to.(Laughter)So I don\\'t have a problem with developers making money. There\\'s enough precedent out there to show that a sustainable, community-friendly development can still make a fortune. Fellow TEDsters Bill McDonough and Amory Lovins — both heroes of mine by the way — have shown that you can actually do that. I do have a problem with developments that hyper-exploit politically vulnerable communities for profit. That it continues is a shame upon us all, because we are all responsible for the future that we create. But one of the things I do to remind myself of greater possibilities, is to learn from visionaries in other cities. This is my version of globalization.Let\\'s take Bogota. Poor, Latino, surrounded by runaway gun violence and drug trafficking; a reputation not unlike that of the South Bronx. However, this city was blessed in the late 1990s with a highly-influential mayor named Enrique Peñalosa. He looked at the demographics. Few Bogotanos own cars, yet a huge portion of the city\\'s resources was dedicated to serving them. If you\\'re a mayor, you can do something about that. His administration narrowed key municipal thoroughfares from five lanes to three, outlawed parking on those streets, expanded pedestrian walkways and bike lanes, created public plazas, created one of the most efficient bus mass-transit systems in the entire world. For his brilliant efforts, he was nearly impeached. But as people began to see that they were being put first on issues reflecting their day-to-day lives, incredible things happened. People stopped littering. Crime rates dropped, because the streets were alive with people. His administration attacked several typical urban problems at one time, and on a third-world budget, at that. We have no excuse in this country, I\\'m sorry. But the bottom line is: their people-first agenda was not meant to penalize those who could actually afford cars, but rather, to provide opportunities for all Bogotanos to participate in the city\\'s resurgence. That development should not come at the expense of the majority of the population is still considered a radical idea here in the U.S. But Bogota\\'s example has the power to change that.You, however, are blessed with the gift of influence. That\\'s why you\\'re here and why you value the information we exchange. Use your influence in support of comprehensive, sustainable change everywhere. Don\\'t just talk about it at TED. This is a nationwide policy agenda I\\'m trying to build, and as you all know, politics are personal. Help me make green the new black. Help me make sustainability sexy. Make it a part of your dinner and cocktail conversations. Help me fight for environmental and economic justice. Support investments with a triple-bottom-line return. Help me democratize sustainability by bringing everyone to the table, and insisting that comprehensive planning can be addressed everywhere. Oh good, glad I have a little more time!Listen — when I spoke to Mr. Gore the other day after breakfast, I asked him how environmental justice activists were going to be included in his new marketing strategy. His response was a grant program. I don\\'t think he understood that I wasn\\'t asking for funding. I was making him an offer.(Applause)What troubled me was that this top-down approach is still around. Now, don\\'t get me wrong, we need money.(Laughter)But grassroots groups are needed at the table during the decision-making process. Of the 90 percent of the energy that Mr. Gore reminded us that we waste every day, don\\'t add wasting our energy, intelligence and hard-earned experience to that count.(Applause)I have come from so far to meet you like this. Please don\\'t waste me. By working together, we can become one of those small, rapidly-growing groups of individuals who actually have the audacity and courage to believe that we actually can change the world. We might have come to this conference from very, very different stations in life, but believe me, we all share one incredibly powerful thing. We have nothing to lose and everything to gain.Ciao, bellos!(Applause)', 'About 10 years ago, I took on the task to teach global development to Swedish undergraduate students. That was after having spent about 20 years together with African institutions studying hunger in Africa, so I was sort of expected to know a little about the world. And I started in our medical university, Karolinska Institute, an undergraduate course called Global Health. But when you get that opportunity, you get a little nervous. I thought, these students coming to us actually have the highest grade you can get in Swedish college systems — so I thought, maybe they know everything I\\'m going to teach them about. So I did a pre-test when they came. And one of the questions from which I learned a lot was this one: \"Which country has the highest child mortality of these five pairs?\"I put them together, so that in each pair of country, one has twice the child mortality of the other. And this means that it\\'s much bigger a difference than the uncertainty of the data. I won\\'t put you at a test here, but it\\'s Turkey, which is highest there, Poland, Russia, Pakistan and South Africa. And these were the results of the Swedish students. I did it so I got the confidence interval, which is pretty narrow, and I got happy, of course: a 1.8 right answer out of five possible. That means that there was a place for a professor of international health and for my course.(Laughter)But one late night, when I was compiling the report, I really realized my discovery. I have shown that Swedish top students know statistically significantly less about the world than the chimpanzees.(Laughter)Because the chimpanzee would score half right if I gave them two bananas with Sri Lanka and Turkey. They would be right half of the cases. But the students are not there. The problem for me was not ignorance; it was preconceived ideas.I did also an unethical study of the professors of the Karolinska Institute, that hands out the Nobel Prize in Medicine, and they are on par with the chimpanzee there.(Laughter)This is where I realized that there was really a need to communicate, because the data of what\\'s happening in the world and the child health of every country is very well aware.We did this software which displays it like this: every bubble here is a country. This country over here is China. This is India. The size of the bubble is the population, and on this axis here, I put fertility rate. Because my students, what they said when they looked upon the world, and I asked them, \"What do you really think about the world?\" Well, I first discovered that the textbook was Tintin, mainly.(Laughter)And they said, \"The world is still \\'we\\' and \\'them.\\' And \\'we\\' is Western world and \\'them\\' is Third World.\" \"And what do you mean with Western world?\" I said. \"Well, that\\'s long life and small family, and Third World is short life and large family.\"So this is what I could display here. I put fertility rate here: number of children per woman: one, two, three, four, up to about eight children per woman. We have very good data since 1962 — 1960 about — on the size of families in all countries. The error margin is narrow. Here, I put life expectancy at birth, from 30 years in some countries up to about 70 years. And 1962, there was really a group of countries here that was industrialized countries, and they had small families and long lives. And these were the developing countries: they had large families and they had relatively short lives. Now, what has happened since 1962? We want to see the change. Are the students right? Is it still two types of countries? Or have these developing countries got smaller families and they live here? Or have they got longer lives and live up there?Let\\'s see. We stopped the world then. This is all U.N. statistics that have been available. Here we go. Can you see there? It\\'s China there, moving against better health there, improving there. All the green Latin American countries are moving towards smaller families. Your yellow ones here are the Arabic countries, and they get longer life, but not larger families. The Africans are the green here. They still remain here. This is India; Indonesia is moving on pretty fast.(Laughter)In the \\'80s here, you have Bangladesh still among the African countries. But now, Bangladesh — it\\'s a miracle that happens in the \\'80s: the imams start to promote family planning. They move up into that corner. And in the \\'90s, we have the terrible HIV epidemic that takes down the life expectancy of the African countries and all the rest of them move up into the corner, where we have long lives and small family, and we have a completely new world.(Applause)(Applause ends)Let me make a comparison directly between the United States of America and Vietnam. 1964. America had small families and long life; Vietnam had large families and short lives. And this is what happens: the data during the war indicate that even with all the death, there was an improvement of life expectancy. By the end of the year, the family planning started in Vietnam; they went for smaller families. And the United States up there is getting for longer life, keeping family size. And in the \\'80s now, they give up Communist planning and they go for market economy, and it moves faster even than social life. And today, we have in Vietnam the same life expectancy and the same family size here in Vietnam, 2003, as in United States, 1974, by the end of the war. If we don\\'t look in the data, I think we all underestimate the tremendous change in Asia, which was in social change before we saw the economical change.Let\\'s move over to another way here in which we could display the distribution in the world of the income. This is the world distribution of income of people. One dollar, 10 dollars or 100 dollars per day. There\\'s no gap between rich and poor any longer. This is a myth. There\\'s a little hump here. But there are people all the way. And if we look where the income ends up, this is 100 percent the world\\'s annual income. And the richest 20 percent, they take out of that about 74 percent. And the poorest 20 percent, they take about two percent. And this shows that the concept of developing countries is extremely doubtful. We think about aid, like these people here giving aid to these people here. But in the middle, we have most of the world population, and they have now 24 percent of the income.We heard it in other forms. And who are these? Where are the different countries? I can show you Africa. This is Africa. 10% the world population, most in poverty. This is OECD. The rich country. The country club of the U.N. And they are over here on this side. Quite an overlap between Africa and OECD. And this is Latin America. It has everything on this Earth, from the poorest to the richest in Latin America. And on top of that, we can put East Europe, we can put East Asia, and we put South Asia.And how did it look like if we go back in time, to about 1970? Then there was more of a hump. And we have most who lived in absolute poverty were Asians. The problem in the world was the poverty in Asia. And if I now let the world move forward, you will see that while population increases, there are hundreds of millions in Asia getting out of poverty and some others getting into poverty, and this is the pattern we have today. And the best projection from the World Bank is that this will happen, and we will not have a divided world. We\\'ll have most people in the middle.Of course it\\'s a logarithmic scale here, but our concept of economy is growth with percent. We look upon it as a possibility of percentile increase. If I change this, and take GDP per capita instead of family income, and I turn these individual data into regional data of gross domestic product, and I take the regions down here, the size of the bubble is still the population. And you have the OECD there, and you have sub-Saharan Africa there, and we take off the Arab states there, coming both from Africa and from Asia, and we put them separately, and we can expand this axis, and I can give it a new dimension here, by adding the social values there, child survival. Now I have money on that axis, and I have the possibility of children to survive there. In some countries, 99.7% of children survive to five years of age; others, only 70. And here, it seems, there is a gap between OECD, Latin America, East Europe, East Asia, Arab states, South Asia and sub-Saharan Africa. The linearity is very strong between child survival and money.But let me split sub-Saharan Africa. Health is there and better health is up there. I can go here and I can split sub-Saharan Africa into its countries. And when it burst, the size of its country bubble is the size of the population. Sierra Leone down there. Mauritius is up there. Mauritius was the first country to get away with trade barriers, and they could sell their sugar — they could sell their textiles — on equal terms as the people in Europe and North America.There\\'s a huge difference between Africa. And Ghana is here in the middle. In Sierra Leone, humanitarian aid. Here in Uganda, development aid. Here, time to invest; there, you can go for a holiday. It\\'s a tremendous variation within Africa which we rarely often make — that it\\'s equal everything. I can split South Asia here. India\\'s the big bubble in the middle. But a huge difference between Afghanistan and Sri Lanka. I can split Arab states. How are they? Same climate, same culture, same religion — huge difference. Even between neighbors. Yemen, civil war. United Arab Emirates, money, which was quite equally and well used. Not as the myth is. And that includes all the children of the foreign workers who are in the country.Data is often better than you think. Many people say data is bad. There is an uncertainty margin, but we can see the difference here: Cambodia, Singapore. The differences are much bigger than the weakness of the data. East Europe: Soviet economy for a long time, but they come out after 10 years very, very differently. And there is Latin America. Today, we don\\'t have to go to Cuba to find a healthy country in Latin America. Chile will have a lower child mortality than Cuba within some few years from now. Here, we have high-income countries in the OECD.And we get the whole pattern here of the world, which is more or less like this. And if we look at it, how the world looks, in 1960, it starts to move. This is Mao Tse-tung. He brought health to China. And then he died. And then Deng Xiaoping came and brought money to China, and brought them into the mainstream again. And we have seen how countries move in different directions like this, so it\\'s sort of difficult to get an example country which shows the pattern of the world.But I would like to bring you back to about here, at 1960. I would like to compare South Korea, which is this one, with Brazil, which is this one. The label went away for me here. And I would like to compare Uganda, which is there. And I can run it forward, like this. And you can see how South Korea is making a very, very fast advancement, whereas Brazil is much slower.And if we move back again, here, and we put on trails on them, like this, you can see again that the speed of development is very, very different, and the countries are moving more or less in the same rate as money and health, but it seems you can move much faster if you are healthy first than if you are wealthy first. And to show that, you can put on the way of United Arab Emirates. They came from here, a mineral country. They cached all the oil; they got all the money; but health cannot be bought at the supermarket. You have to invest in health. You have to get kids into schooling. You have to train health staff. You have to educate the population. And Sheikh Zayed did that in a fairly good way. In spite of falling oil prices, he brought this country up here. So we\\'ve got a much more mainstream appearance of the world, where all countries tend to use their money better than they used in the past.Now, this is, more or less, if you look at the average data of the countries — they are like this. Now that\\'s dangerous, to use average data, because there is such a lot of difference within countries. So if I go and look here, we can see that Uganda today is where South Korea was in 1960. If I split Uganda, there\\'s quite a difference within Uganda. These are the quintiles of Uganda. The richest 20 percent of Ugandans are there. The poorest are down there. If I split South Africa, it\\'s like this. And if I go down and look at Niger, where there was such a terrible famine, lastly, it\\'s like this. The 20 percent poorest of Niger is out here, and the 20 percent richest of South Africa is there, and yet we tend to discuss on what solutions there should be in Africa. Everything in this world exists in Africa. And you can\\'t discuss universal access to HIV [medicine] for that quintile up here with the same strategy as down here. The improvement of the world must be highly contextualized, and it\\'s not relevant to have it on regional level. We must be much more detailed. We find that students get very excited when they can use this.And even more, policy makers and the corporate sectors would like to see how the world is changing. Now, why doesn\\'t this take place? Why are we not using the data we have? We have data in the United Nations, in the national statistical agencies and in universities and other non-governmental organizations. Because the data is hidden down in the databases. And the public is there, and the Internet is there, but we have still not used it effectively.All that information we saw changing in the world does not include publicly-funded statistics. There are some web pages like this, you know, but they take some nourishment down from the databases, but people put prices on them, stupid passwords and boring statistics.(Laughter)And this won\\'t work.(Applause)So what is needed? We have the databases. It\\'s not the new database you need. We have wonderful design tools, and more and more are added up here. So we started a nonprofit venture which, linking data to design, we called Gapminder, from the London Underground, where they warn you, \"mind the gap.\" So we thought Gapminder was appropriate. And we started to write software which could link the data like this. And it wasn\\'t that difficult. It took some person years, and we have produced animations. You can take a data set and put it there. We are liberating U.N. data, some few U.N. organization.Some countries accept that their databases can go out on the world, but what we really need is, of course, a search function. A search function where we can copy the data up to a searchable format and get it out in the world. And what do we hear when we go around? I\\'ve done anthropology on the main statistical units. Everyone says, \"It\\'s impossible. This can\\'t be done. Our information is so peculiar in detail, so that cannot be searched as others can be searched. We cannot give the data free to the students, free to the entrepreneurs of the world.\"But this is what we would like to see, isn\\'t it? The publicly-funded data is down here. And we would like flowers to grow out on the Net. And one of the crucial points is to make them searchable, and then people can use the different design tool to animate it there. And I have pretty good news for you. I have good news that the present, new Head of U.N. Statistics, he doesn\\'t say it\\'s impossible. He only says, \"We can\\'t do it.\"(Laughter)And that\\'s a quite clever guy, huh?(Laughter)So we can see a lot happening in data in the coming years. We will be able to look at income distributions in completely new ways. This is the income distribution of China, 1970. This is the income distribution of the United States, 1970. Almost no overlap. And what has happened? What has happened is this: that China is growing, it\\'s not so equal any longer, and it\\'s appearing here, overlooking the United States. Almost like a ghost, isn\\'t it?(Laughter)It\\'s pretty scary.(Laughter)But I think it\\'s very important to have all this information. We need really to see it. And instead of looking at this, I would like to end up by showing the Internet users per 1,000. In this software, we access about 500 variables from all the countries quite easily. It takes some time to change for this, but on the axises, you can quite easily get any variable you would like to have. And the thing would be to get up the databases free, to get them searchable, and with a second click, to get them into the graphic formats, where you can instantly understand them. Now, statisticians don\\'t like it, because they say that this will not show the reality; we have to have statistical, analytical methods. But this is hypothesis-generating.I end now with the world. There, the Internet is coming. The number of Internet users are going up like this. This is the GDP per capita. And it\\'s a new technology coming in, but then amazingly, how well it fits to the economy of the countries. That\\'s why the $100 computer will be so important. But it\\'s a nice tendency. It\\'s as if the world is flattening off, isn\\'t it? These countries are lifting more than the economy and will be very interesting to follow this over the year, as I would like you to be able to do with all the publicly funded data.Thank you very much.(Applause)']\n"
     ]
    }
   ],
   "source": [
    "print(transcripts[:5])"
   ]
  },
  {
   "cell_type": "code",
   "execution_count": 6,
   "metadata": {},
   "outputs": [],
   "source": [
    "def count_chars(char):\n",
    "    c = 0\n",
    "    for tran in transcripts:\n",
    "         c += tran.count(char)\n",
    "    return c"
   ]
  },
  {
   "cell_type": "code",
   "execution_count": 7,
   "metadata": {},
   "outputs": [
    {
     "data": {
      "text/plain": [
       "299645"
      ]
     },
     "execution_count": 7,
     "metadata": {},
     "output_type": "execute_result"
    }
   ],
   "source": [
    "count_chars('.')"
   ]
  },
  {
   "cell_type": "code",
   "execution_count": 8,
   "metadata": {},
   "outputs": [
    {
     "data": {
      "text/plain": [
       "26460"
      ]
     },
     "execution_count": 8,
     "metadata": {},
     "output_type": "execute_result"
    }
   ],
   "source": [
    "count_chars('?')"
   ]
  },
  {
   "cell_type": "code",
   "execution_count": 9,
   "metadata": {},
   "outputs": [
    {
     "data": {
      "text/plain": [
       "354791"
      ]
     },
     "execution_count": 9,
     "metadata": {},
     "output_type": "execute_result"
    }
   ],
   "source": [
    "count_chars(',')"
   ]
  },
  {
   "cell_type": "code",
   "execution_count": 10,
   "metadata": {},
   "outputs": [
    {
     "data": {
      "text/plain": [
       "2339"
      ]
     },
     "execution_count": 10,
     "metadata": {},
     "output_type": "execute_result"
    }
   ],
   "source": [
    "count_chars('!')"
   ]
  },
  {
   "cell_type": "code",
   "execution_count": 11,
   "metadata": {},
   "outputs": [
    {
     "data": {
      "text/plain": [
       "16888"
      ]
     },
     "execution_count": 11,
     "metadata": {},
     "output_type": "execute_result"
    }
   ],
   "source": [
    "count_chars(':')"
   ]
  },
  {
   "cell_type": "code",
   "execution_count": 12,
   "metadata": {},
   "outputs": [
    {
     "data": {
      "text/plain": [
       "4456"
      ]
     },
     "execution_count": 12,
     "metadata": {},
     "output_type": "execute_result"
    }
   ],
   "source": [
    "count_chars(';')"
   ]
  },
  {
   "cell_type": "code",
   "execution_count": 13,
   "metadata": {},
   "outputs": [
    {
     "data": {
      "text/plain": [
       "25849"
      ]
     },
     "execution_count": 13,
     "metadata": {},
     "output_type": "execute_result"
    }
   ],
   "source": [
    "count_chars('-') # hyphen"
   ]
  },
  {
   "cell_type": "code",
   "execution_count": 14,
   "metadata": {},
   "outputs": [
    {
     "data": {
      "text/plain": [
       "21"
      ]
     },
     "execution_count": 14,
     "metadata": {},
     "output_type": "execute_result"
    }
   ],
   "source": [
    "count_chars('–') # en dash"
   ]
  },
  {
   "cell_type": "code",
   "execution_count": 15,
   "metadata": {},
   "outputs": [
    {
     "data": {
      "text/plain": [
       "27887"
      ]
     },
     "execution_count": 15,
     "metadata": {},
     "output_type": "execute_result"
    }
   ],
   "source": [
    "count_chars('—') # em dash"
   ]
  },
  {
   "cell_type": "code",
   "execution_count": 16,
   "metadata": {},
   "outputs": [
    {
     "data": {
      "text/plain": [
       "1"
      ]
     },
     "execution_count": 16,
     "metadata": {},
     "output_type": "execute_result"
    }
   ],
   "source": [
    "count_chars('¿')"
   ]
  },
  {
   "cell_type": "code",
   "execution_count": 17,
   "metadata": {},
   "outputs": [
    {
     "data": {
      "text/plain": [
       "41385"
      ]
     },
     "execution_count": 17,
     "metadata": {},
     "output_type": "execute_result"
    }
   ],
   "source": [
    "count_chars('\"')"
   ]
  },
  {
   "cell_type": "code",
   "execution_count": 18,
   "metadata": {},
   "outputs": [
    {
     "data": {
      "text/plain": [
       "142170"
      ]
     },
     "execution_count": 18,
     "metadata": {},
     "output_type": "execute_result"
    }
   ],
   "source": [
    "count_chars('\\'')"
   ]
  },
  {
   "cell_type": "code",
   "execution_count": 19,
   "metadata": {},
   "outputs": [
    {
     "data": {
      "text/plain": [
       "46"
      ]
     },
     "execution_count": 19,
     "metadata": {},
     "output_type": "execute_result"
    }
   ],
   "source": [
    "count_chars('%')"
   ]
  },
  {
   "cell_type": "code",
   "execution_count": 20,
   "metadata": {},
   "outputs": [
    {
     "data": {
      "text/plain": [
       "284"
      ]
     },
     "execution_count": 20,
     "metadata": {},
     "output_type": "execute_result"
    }
   ],
   "source": [
    "count_chars('$')"
   ]
  },
  {
   "cell_type": "code",
   "execution_count": 21,
   "metadata": {},
   "outputs": [
    {
     "data": {
      "text/plain": [
       "63"
      ]
     },
     "execution_count": 21,
     "metadata": {},
     "output_type": "execute_result"
    }
   ],
   "source": [
    "count_chars('#')"
   ]
  },
  {
   "cell_type": "code",
   "execution_count": 22,
   "metadata": {},
   "outputs": [
    {
     "data": {
      "text/plain": [
       "152"
      ]
     },
     "execution_count": 22,
     "metadata": {},
     "output_type": "execute_result"
    }
   ],
   "source": [
    "count_chars('&')"
   ]
  },
  {
   "cell_type": "code",
   "execution_count": 23,
   "metadata": {},
   "outputs": [
    {
     "data": {
      "text/plain": [
       "1349"
      ]
     },
     "execution_count": 23,
     "metadata": {},
     "output_type": "execute_result"
    }
   ],
   "source": [
    "count_chars(\"...\")"
   ]
  },
  {
   "cell_type": "code",
   "execution_count": 24,
   "metadata": {},
   "outputs": [
    {
     "data": {
      "text/plain": [
       "5035047"
      ]
     },
     "execution_count": 24,
     "metadata": {},
     "output_type": "execute_result"
    }
   ],
   "source": [
    "count_chars(\" \")"
   ]
  },
  {
   "cell_type": "markdown",
   "metadata": {},
   "source": [
    "#### Questions:\n",
    "\n",
    "- What characters to keep?\n",
    "- What characters to predict?\n",
    "- ..."
   ]
  },
  {
   "cell_type": "code",
   "execution_count": 25,
   "metadata": {},
   "outputs": [],
   "source": [
    "PUNCT = '?.,—:;'\n",
    "\n",
    "KEPT_CHAR = \"a-zA-Z0-9\\-'\" + PUNCT"
   ]
  },
  {
   "cell_type": "code",
   "execution_count": 26,
   "metadata": {},
   "outputs": [],
   "source": [
    "import unicodedata\n",
    "\n",
    "\n",
    "# Converts the unicode file to ascii\n",
    "def unicode_to_ascii(s):\n",
    "    return ''.join(c for c in unicodedata.normalize('NFD', s)\n",
    "        if unicodedata.category(c) != 'Mn')\n",
    "\n",
    "def preprocess_text(w):\n",
    "    w = unicode_to_ascii(w.strip())\n",
    "\n",
    "    \n",
    "    # replace ! with . (too few \"!\" samples)\n",
    "    w = w.replace('!', '.')\n",
    "    \n",
    "    # removing everything in parentheses (audience reactions)\n",
    "    # Reference: https://stackoverflow.com/questions/14596884/remove-text-between-and-in-python/14598135\n",
    "    w = re.sub(r\"[\\(].*?[\\)]\", \"\", w)\n",
    "    \n",
    "    # setting first letter of sentences to lowercse to not give any hints as to where punctuation should be\n",
    "\n",
    "    w = re.sub(\"([\\\"])[ ]?(\\w+)\", lambda x: x.group(0).lower(), w)\n",
    "\n",
    "    w = re.sub(\"([?.])[ ]?(\\w+)\", lambda x: x.group(0).lower(), w)\n",
    "    \n",
    "    \n",
    "    # fixing lower case \"I\"\n",
    "    # some first sentence letters still wrongfully lowercase but difficult to fix that\n",
    "    w = re.sub(\"( i[' ])\", lambda x: x.group(0).upper(), w) \n",
    "    \n",
    "\n",
    "    # creating a space between a word and the punctuation following it\n",
    "    # eg: \"he is a boy.\" => \"he is a boy .\"\n",
    "    # Reference: https://stackoverflow.com/questions/3645931/python-padding-punctuation-with-white-spaces-keeping-punctuation\n",
    "\n",
    "    w = re.sub(r\"([?.,—:;])\", r\" \\1 \", w)\n",
    "\n",
    "    w = re.sub(r'[\" \"]+', \" \", w)\n",
    "    w = re.sub(\"(\\d+) , (\\d{3})\", \"\\\\1,\\\\2\", w) # fixing numbers with comma\n",
    "\n",
    "    \n",
    "    # replacing everything with space except (a-z, A-Z, 0-9, \".\", \"?\", \",\", \"-\", \"—\", \":\", \";\")\n",
    "    w = re.sub(\"[^\" + KEPT_CHAR + \"]+\", \" \", w)\n",
    "    w = w.strip()\n",
    "    # adding a start and an end token to the sentence\n",
    "    # so that the model know when to start and stop predicting.\n",
    "    # w = '<start> ' + w + ' <end>'\n",
    "    return w"
   ]
  },
  {
   "cell_type": "code",
   "execution_count": 27,
   "metadata": {},
   "outputs": [],
   "source": [
    "clean_transcripts = [preprocess_text(t) for t in transcripts]"
   ]
  },
  {
   "cell_type": "code",
   "execution_count": 28,
   "metadata": {},
   "outputs": [
    {
     "name": "stdout",
     "output_type": "stream",
     "text": [
      "[\"Good morning . how are you ? it's been great , hasn't it ? I've been blown away by the whole thing . in fact , I'm leaving . there have been three themes running through the conference which are relevant to what I want to talk about . one is the extraordinary evidence of human creativity in all of the presentations that we've had and in all of the people here . just the variety of it and the range of it . the second is that it's put us in a place where we have no idea what's going to happen , in terms of the future . no idea how this may play out . i have an interest in education . actually , what I find is everybody has an interest in education . don't you ? I find this very interesting . if you're at a dinner party , and you say you work in education — Actually , you're not often at dinner parties , frankly . if you work in education , you're not asked . and you're never asked back , curiously . that's strange to me . but if you are , and you say to somebody , you know , they say , what do you do ? and you say you work in education , you can see the blood run from their face . they're like , oh my God , you know , why me ? my one night out all week . but if you ask about their education , they pin you to the wall . because it's one of those things that goes deep with people , am I right ? like religion , and money and other things . so I have a big interest in education , and I think we all do . we have a huge vested interest in it , partly because it's education that's meant to take us into this future that we can't grasp . if you think of it , children starting school this year will be retiring in 2065 . nobody has a clue , despite all the expertise that's been on parade for the past four days , what the world will look like in five years' time . and yet we're meant to be educating them for it . so the unpredictability , I think , is extraordinary . and the third part of this is that we've all agreed , nonetheless , on the really extraordinary capacities that children have — their capacities for innovation . I mean , Sirena last night was a marvel , wasn't she ? just seeing what she could do . and she's exceptional , but I think she's not , so to speak , exceptional in the whole of childhood . what you have there is a person of extraordinary dedication who found a talent . and my contention is , all kids have tremendous talents . and we squander them , pretty ruthlessly . so I want to talk about education and I want to talk about creativity . my contention is that creativity now is as important in education as literacy , and we should treat it with the same status . thank you . that was it , by the way . thank you very much . so , 15 minutes left . well , I was born . . . no . i heard a great story recently — I love telling it — of a little girl who was in a drawing lesson . she was six , and she was at the back , drawing , and the teacher said this girl hardly ever paid attention , and in this drawing lesson , she did . the teacher was fascinated . she went over to her , and she said , what are you drawing ? and the girl said , i'm drawing a picture of God . and the teacher said , but nobody knows what God looks like . and the girl said , they will , in a minute . when my son was four in England — Actually , he was four everywhere , to be honest . if we're being strict about it , wherever he went , he was four that year . he was in the Nativity play . do you remember the story ? no , it was big , it was a big story . mel Gibson did the sequel , you may have seen it . nativity II . but James got the part of Joseph , which we were thrilled about . we considered this to be one of the lead parts . we had the place crammed full of agents in T-shirts : james Robinson IS Joseph . He didn't have to speak , but you know the bit where the three kings come in ? they come in bearing gifts , gold , frankincense and myrrh . this really happened . we were sitting there and I think they just went out of sequence , because we talked to the little boy afterward and we said , you OK with that ? and he said , yeah , why ? was that wrong ? they just switched . the three boys came in , four-year-olds with tea towels on their heads , and they put these boxes down , and the first boy said , i bring you gold . and the second boy said , i bring you myrrh . and the third boy said , frank sent this . what these things have in common is that kids will take a chance . if they don't know , they'll have a go . am I right ? they're not frightened of being wrong . I don't mean to say that being wrong is the same thing as being creative . what we do know is , if you're not prepared to be wrong , you'll never come up with anything original — if you're not prepared to be wrong . and by the time they get to be adults , most kids have lost that capacity . they have become frightened of being wrong . and we run our companies like this . we stigmatize mistakes . and we're now running national education systems where mistakes are the worst thing you can make . and the result is that we are educating people out of their creative capacities . picasso once said this , he said that all children are born artists . the problem is to remain an artist as we grow up . I believe this passionately , that we don't grow into creativity , we grow out of it . or rather , we get educated out of it . so why is this ? i lived in Stratford-on-Avon until about five years ago . in fact , we moved from Stratford to Los Angeles . so you can imagine what a seamless transition that was . actually , we lived in a place called Snitterfield , just outside Stratford , which is where Shakespeare's father was born . are you struck by a new thought ? I was . you don't think of Shakespeare having a father , do you ? do you ? because you don't think of Shakespeare being a child , do you ? shakespeare being seven ? I never thought of it . I mean , he was seven at some point . he was in somebody's English class , wasn't he ? how annoying would that be ? must try harder . being sent to bed by his dad , you know , to Shakespeare , go to bed , now . and put the pencil down . and stop speaking like that . it's confusing everybody . anyway , we moved from Stratford to Los Angeles , and I just want to say a word about the transition . my son didn't want to come . I've got two kids ; he's 21 now , my daughter's 16 . he didn't want to come to Los Angeles . he loved it , but he had a girlfriend in England . this was the love of his life , Sarah . he'd known her for a month . mind you , they'd had their fourth anniversary , because it's a long time when you're 16 . he was really upset on the plane , he said , i'll never find another girl like Sarah . and we were rather pleased about that , frankly — Because she was the main reason we were leaving the country . but something strikes you when you move to America and travel around the world : Every education system on Earth has the same hierarchy of subjects . every one . doesn't matter where you go . you'd think it would be otherwise , but it isn't . at the top are mathematics and languages , then the humanities , and at the bottom are the arts . everywhere on Earth . and in pretty much every system too , there's a hierarchy within the arts . art and music are normally given a higher status in schools than drama and dance . there isn't an education system on the planet that teaches dance everyday to children the way we teach them mathematics . why ? why not ? I think this is rather important . I think math is very important , but so is dance . children dance all the time if they're allowed to , we all do . we all have bodies , don't we ? did I miss a meeting ? truthfully , what happens is , as children grow up , we start to educate them progressively from the waist up . and then we focus on their heads . and slightly to one side . if you were to visit education , as an alien , and say what's it for , public education ? I think you'd have to conclude , if you look at the output , who really succeeds by this , who does everything that they should , who gets all the brownie points , who are the winners — I think you'd have to conclude the whole purpose of public education throughout the world is to produce university professors . isn't it ? they're the people who come out the top . and I used to be one , so there . and I like university professors , but you know , we shouldn't hold them up as the high-water mark of all human achievement . they're just a form of life , another form of life . but they're rather curious , and I say this out of affection for them . there's something curious about professors in my experience — not all of them , but typically , they live in their heads . they live up there , and slightly to one side . they're disembodied , you know , in a kind of literal way . they look upon their body as a form of transport for their heads . don't they ? it's a way of getting their head to meetings . if you want real evidence of out-of-body experiences , get yourself along to a residential conference of senior academics , and pop into the discotheque on the final night . and there , you will see it . grown men and women writhing uncontrollably , off the beat . waiting until it ends so they can go home and write a paper about it . our education system is predicated on the idea of academic ability . and there's a reason . around the world , there were no public systems of education , really , before the 19th century . they all came into being to meet the needs of industrialism . so the hierarchy is rooted on two ideas . number one , that the most useful subjects for work are at the top . so you were probably steered benignly away from things at school when you were a kid , things you liked , on the grounds that you would never get a job doing that . is that right ? don't do music , you're not going to be a musician ; don't do art , you won't be an artist . benign advice — now , profoundly mistaken . the whole world is engulfed in a revolution . and the second is academic ability , which has really come to dominate our view of intelligence , because the universities designed the system in their image . if you think of it , the whole system of public education around the world is a protracted process of university entrance . and the consequence is that many highly-talented , brilliant , creative people think they're not , because the thing they were good at at school wasn't valued , or was actually stigmatized . and I think we can't afford to go on that way . in the next 30 years , according to UNESCO , more people worldwide will be graduating through education than since the beginning of history . more people , and it's the combination of all the things we've talked about — technology and its transformation effect on work , and demography and the huge explosion in population . suddenly , degrees aren't worth anything . isn't that true ? when I was a student , if you had a degree , you had a job . if you didn't have a job , it's because you didn't want one . and I didn't want one , frankly . But now kids with degrees are often heading home to carry on playing video games , because you need an MA where the previous job required a BA , and now you need a PhD for the other . it's a process of academic inflation . and it indicates the whole structure of education is shifting beneath our feet . we need to radically rethink our view of intelligence . we know three things about intelligence . one , it's diverse . we think about the world in all the ways that we experience it . we think visually , we think in sound , we think kinesthetically . we think in abstract terms , we think in movement . secondly , intelligence is dynamic . if you look at the interactions of a human brain , as we heard yesterday from a number of presentations , intelligence is wonderfully interactive . the brain isn't divided into compartments . in fact , creativity — which I define as the process of having original ideas that have value — more often than not comes about through the interaction of different disciplinary ways of seeing things . by the way , there's a shaft of nerves that joins the two halves of the brain called the corpus callosum . it's thicker in women . following off from Helen yesterday , this is probably why women are better at multi-tasking . because you are , aren't you ? there's a raft of research , but I know it from my personal life . if my wife is cooking a meal at home — which is not often , thankfully . no , she's good at some things , but if she's cooking , she's dealing with people on the phone , she's talking to the kids , she's painting the ceiling , she's doing open-heart surgery over here . if I'm cooking , the door is shut , the kids are out , the phone's on the hook , if she comes in I get annoyed . I say , terry , please , I'm trying to fry an egg in here . give me a break . actually , do you know that old philosophical thing , if a tree falls in a forest and nobody hears it , did it happen ? remember that old chestnut ? I saw a great t-shirt recently , which said , if a man speaks his mind in a forest , and no woman hears him , is he still wrong ? and the third thing about intelligence is , it's distinct . I'm doing a new book at the moment called epiphany , which is based on a series of interviews with people about how they discovered their talent . I'm fascinated by how people got to be there . it's really prompted by a conversation I had with a wonderful woman who maybe most people have never heard of , Gillian Lynne . have you heard of her ? some have . she's a choreographer , and everybody knows her work . she did cats and phantom of the Opera . she's wonderful . I used to be on the board of The Royal Ballet , as you can see . anyway , Gillian and I had lunch one day and I said , how did you get to be a dancer ? it was interesting . when she was at school , she was really hopeless . and the school , in the '30s , wrote to her parents and said , we think Gillian has a learning disorder . she couldn't concentrate ; she was fidgeting . I think now they'd say she had ADHD . wouldn't you ? but this was the 1930s , and ADHD hadn't been invented at this point . it wasn't an available condition . people weren't aware they could have that . anyway , she went to see this specialist . so , this oak-paneled room , and she was there with her mother , and she was led and sat on this chair at the end , and she sat on her hands for 20 minutes while this man talked to her mother about the problems Gillian was having at school . because she was disturbing people ; her homework was always late ; and so on , little kid of eight . in the end , the doctor went and sat next to Gillian , and said , i've listened to all these things your mother's told me , I need to speak to her privately . wait here . we'll be back ; we won't be very long , and they went and left her . but as they went out of the room , he turned on the radio that was sitting on his desk . and when they got out , he said to her mother , just stand and watch her . and the minute they left the room , she was on her feet , moving to the music . and they watched for a few minutes and he turned to her mother and said , mrs . lynne , Gillian isn't sick ; she's a dancer . take her to a dance school . i said , what happened ? she said , she did . I can't tell you how wonderful it was . we walked in this room and it was full of people like me . people who couldn't sit still . people who had to move to think . who had to move to think . they did ballet , they did tap , jazz ; they did modern ; they did contemporary . she was eventually auditioned for the Royal Ballet School ; she became a soloist ; she had a wonderful career at the Royal Ballet . she eventually graduated from the Royal Ballet School , founded the Gillian Lynne Dance Company , met Andrew Lloyd Webber . she's been responsible for some of the most successful musical theater productions in history , she's given pleasure to millions , and she's a multi-millionaire . somebody else might have put her on medication and told her to calm down . what I think it comes to is this : Al Gore spoke the other night about ecology and the revolution that was triggered by Rachel Carson . I believe our only hope for the future is to adopt a new conception of human ecology , one in which we start to reconstitute our conception of the richness of human capacity . our education system has mined our minds in the way that we strip-mine the earth : for a particular commodity . and for the future , it won't serve us . we have to rethink the fundamental principles on which we're educating our children . there was a wonderful quote by Jonas Salk , who said , if all the insects were to disappear from the Earth , within 50 years all life on Earth would end . if all human beings disappeared from the Earth , within 50 years all forms of life would flourish . and he's right . what TED celebrates is the gift of the human imagination . we have to be careful now that we use this gift wisely and that we avert some of the scenarios that we've talked about . and the only way we'll do it is by seeing our creative capacities for the richness they are and seeing our children for the hope that they are . and our task is to educate their whole being , so they can face this future . by the way — we may not see this future , but they will . and our job is to help them make something of it . thank you very much .\", \"Thank you so much , Chris . and it's truly a great honor to have the opportunity to come to this stage twice ; I'm extremely grateful . I have been blown away by this conference , and I want to thank all of you for the many nice comments about what I had to say the other night . and I say that sincerely , partly because I need that . put yourselves in my position . i flew on Air Force Two for eight years . now I have to take off my shoes or boots to get on an airplane . i'll tell you one quick story to illustrate what that's been like for me . it's a true story — every bit of this is true . soon after Tipper and I left the — White House — we were driving from our home in Nashville to a little farm we have 50 miles east of Nashville . driving ourselves . i know it sounds like a little thing to you , but — I looked in the rear-view mirror and all of a sudden it just hit me . there was no motorcade back there . you've heard of phantom limb pain ? this was a rented Ford Taurus . it was dinnertime , and we started looking for a place to eat . we were on I-40 . we got to Exit 238 , Lebanon , Tennessee . we got off the exit , we found a Shoney's restaurant . low-cost family restaurant chain , for those of you who don't know it . we went in and sat down at the booth , and the waitress came over , made a big commotion over Tipper . she took our order , and then went to the couple in the booth next to us , and she lowered her voice so much , I had to really strain to hear what she was saying . and she said yes , that's former Vice President Al Gore and his wife , Tipper . and the man said , he's come down a long way , hasn't he ? there's been kind of a series of epiphanies . the very next day , continuing the totally true story , I got on a G-V to fly to Africa to make a speech in Nigeria , in the city of Lagos , on the topic of energy . and I began the speech by telling them the story of what had just happened the day before in Nashville . and I told it pretty much the same way I've just shared it with you : Tipper and I were driving ourselves , Shoney's , low-cost family restaurant chain , what the man said — they laughed . I gave my speech , then went back out to the airport to fly back home . I fell asleep on the plane until , during the middle of the night , we landed on the Azores Islands for refueling . I woke up , they opened the door , I went out to get some fresh air , and I looked , and there was a man running across the runway . and he was waving a piece of paper , and he was yelling , call Washington . call Washington . and I thought to myself , in the middle of the night , in the middle of the Atlantic , what in the world could be wrong in Washington ? then I remembered it could be a bunch of things . but what it turned out to be , was that my staff was extremely upset because one of the wire services in Nigeria had already written a story about my speech , and it had already been printed in cities all across the United States of America . it was printed in Monterey , I checked . and the story began , former Vice President Al Gore announced in Nigeria yesterday , quote : 'My wife Tipper and I have opened a low-cost family restaurant' — 'named Shoney's , and we are running it ourselves . ' before I could get back to U . s . soil , David Letterman and Jay Leno had already started in on — one of them had me in a big white chef's hat , Tipper was saying , one more burger with fries . three days later , I got a nice , long , handwritten letter from my friend and partner and colleague Bill Clinton , saying , congratulations on the new restaurant , Al . we like to celebrate each other's successes in life . i was going to talk about information ecology . but I was thinking that , since I plan to make a lifelong habit of coming back to TED , that maybe I could talk about that another time . chris Anderson : It's a deal . al Gore : I want to focus on what many of you have said you would like me to elaborate on : What can you do about the climate crisis ? I want to start with a couple of — I'm going to show some new images , and I'm going to recapitulate just four or five . now , the slide show . I update the slide show every time I give it . I add new images , because I learn more about it every time I give it . it's like beach-combing , you know ? every time the tide comes in and out , you find some more shells . just in the last two days , we got the new temperature records in January . this is just for the United States of America . historical average for Januarys is 31 degrees ; last month was 39 . 5 degrees . now , I know that you wanted some more bad news about the environment — I'm kidding . but these are the recapitulation slides , and then I'm going to go into new material about what you can do . but I wanted to elaborate on a couple of these . first of all , this is where we're projected to go with the U . s . contribution to global warming , under business as usual . efficiency in end-use electricity and end-use of all energy is the low-hanging fruit . efficiency and conservation — it's not a cost ; it's a profit . the sign is wrong . it's not negative ; it's positive . these are investments that pay for themselves . but they are also very effective in deflecting our path . cars and trucks — I talked about that in the slideshow , but I want you to put it in perspective . it's an easy , visible target of concern — and it should be — but there is more global warming pollution that comes from buildings than from cars and trucks . cars and trucks are very significant , and we have the lowest standards in the world . and so we should address that . but it's part of the puzzle . other transportation efficiency is as important as cars and trucks . renewables at the current levels of technological efficiency can make this much difference . and with what Vinod , and John Doerr and others , many of you here — there are a lot of people directly involved in this — this wedge is going to grow much more rapidly than the current projection shows it . carbon Capture and Sequestration — that's what CCS stands for — is likely to become the killer app that will enable us to continue to use fossil fuels in a way that is safe . not quite there yet . ok . now , what can you do ? reduce emissions in your home . most of these expenditures are also profitable . insulation , better design . buy green electricity where you can . I mentioned automobiles — buy a hybrid . use light rail . figure out some of the other options that are much better . it's important . be a green consumer . you have choices with everything you buy , between things that have a harsh effect , or a much less harsh effect on the global climate crisis . consider this : Make a decision to live a carbon-neutral life . those of you who are good at branding , I'd love to get your advice and help on how to say this in a way that connects with the most people . it is easier than you think . it really is . a lot of us in here have made that decision , and it is really pretty easy . it means reduce your carbon dioxide emissions with the full range of choices that you make , and then purchase or acquire offsets for the remainder that you have not completely reduced . and what it means is elaborated at climatecrisis . net . there is a carbon calculator . participant Productions convened — with my active involvement — the leading software writers in the world , on this arcane science of carbon calculation , to construct a consumer-friendly carbon calculator . you can very precisely calculate what your CO2 emissions are , and then you will be given options to reduce . and by the time the movie comes out in May , this will be updated to 2 . 0 , and we will have click-through purchases of offsets . next , consider making your business carbon-neutral . again , some of us have done that , and it's not as hard as you think . integrate climate solutions into all of your innovations , whether you are from the technology , or entertainment , or design and architecture community . invest sustainably . majora mentioned this . listen , if you have invested money with managers who you compensate on the basis of their annual performance , don't ever again complain about quarterly report CEO management . over time , people do what you pay them to do . and if they judge how much they're going to get paid on your capital that they've invested , based on the short-term returns , you're going to get short-term decisions . a lot more to be said about that . become a catalyst of change . teach others , learn about it , talk about it . the movie is a movie version of the slideshow I gave two nights ago , except it's a lot more entertaining . and it comes out in May . many of you here have the opportunity to ensure that a lot of people see it . consider sending somebody to Nashville . pick well . and I am personally going to train people to give this slideshow — re-purposed , with some of the personal stories obviously replaced with a generic approach , and it's not just the slides , it's what they mean . and it's how they link together . and so I'm going to be conducting a course this summer for a group of people that are nominated by different folks to come and then give it en masse , in communities all across the country , and we're going to update the slideshow for all of them every single week , to keep it right on the cutting edge . working with Larry Lessig , it will be , somewhere in that process , posted with tools and limited-use copyrights , so that young people can remix it and do it in their own way . where did anybody get the idea that you ought to stay arm's length from politics ? it doesn't mean that if you're a Republican , that I'm trying to convince you to be a Democrat . we need Republicans as well . this used to be a bipartisan issue , and I know that in this group it really is . become politically active . make our democracy work the way it's supposed to work . support the idea of capping carbon dioxide emissions — global warming pollution — and trading it . here's why : as long as the United States is out of the world system , it's not a closed system . once it becomes a closed system , with U . s . participation , then everybody who's on a board of directors — how many people here serve on the board of directors of a corporation ? once it's a closed system , you will have legal liability if you do not urge your CEO to get the maximum income from reducing and trading the carbon emissions that can be avoided . the market will work to solve this problem — if we can accomplish this . help with the mass persuasion campaign that will start this spring . we have to change the minds of the American people . because presently , the politicians do not have permission to do what needs to be done . and in our modern country , the role of logic and reason no longer includes mediating between wealth and power the way it once did . it's now repetition of short , hot-button , 30-second , 28-second television ads . we have to buy a lot of those ads . let's re-brand global warming , as many of you have suggested . I like climate crisis instead of climate collapse , but again , those of you who are good at branding , I need your help on this . somebody said the test we're facing now , a scientist told me , is whether the combination of an opposable thumb and a neocortex is a viable combination . that's really true . i said the other night , and I'll repeat now : this is not a political issue . again , the Republicans here — this shouldn't be partisan . you have more influence than some of us who are Democrats do . this is an opportunity . not just this , but connected to the ideas that are here , to bring more coherence to them . we are one . thank you very much , I appreciate it .\", \"Hello voice mail , my old friend . i've called for tech support again . I ignored my boss's warning . I called on a Monday morning . now it's evening , and my dinner first grew cold , and then grew mold . I'm still on hold . I'm listening to the sounds of silence . I don't think you understand . I think your phone lines are unmanned . I punched every touch tone I was told , but I've still spent 18 hours on hold . it's not enough your software crashed my Mac , and it constantly hangs and bombs — it erased my ROMs . now the Mac makes the sounds of silence . in my dreams I fantasize of wreaking vengeance on you guys . say your motorcycle crashes . blood comes gushing from your gashes . with your fading strength , you call 9-1-1 and you pray for a trained MD . but you get me . and you listen to the sounds of silence . thank you . good evening and welcome to : spot the TED Presenter Who Used to Be a Broadway Accompanist . when I was offered the Times column six years ago , the deal was like this : you'll be sent the coolest , hottest , slickest new gadgets . every week , it'll arrive at your door . you get to try them out , play with them , evaluate them until the novelty wears out , before you have to send them back , and you'll get paid for it . you can think about it , if you want . so , I've always been a technology nut , and I absolutely love it . the job , though , came with one small downside , and that is , they intended to publish my email address at the end of every column . and what I've noticed is — first of all , you get an incredible amount of email . if you ever are feeling lonely , get a New York Times column , because you will get hundreds and hundreds and hundreds of emails . and the email I'm getting a lot today is about frustration . people are feeling like things — Ok , I just had an alarm come up on my screen . lucky you can't see it . people are feeling overwhelmed . they're feeling like it's too much technology , too fast . it may be good technology , but I feel like there's not enough of a support structure . there's not enough help . there's not enough thought put into the design of it to make it easy and enjoyable to use . one time I wrote a column about my efforts to reach Dell Technical Support , and within 12 hours , there were 700 messages from readers on the feedback boards on the Times website , from users saying , me too , and here's my tale of woe . I call it software rage . and man , let me tell you , whoever figures out how to make money off of this frustration will — Oh , how did that get up there ? just kidding . ok , so why is the problem accelerating ? and part of the problem is , ironically , because the industry has put so much thought into making things easier to use . I'll show you what I mean . this is what the computer interface used to look like , DOS . over the years , it's gotten easier to use . this is the original Mac operating system . reagan was President . madonna was still a brunette . and the entire operating system — this is the good part — the entire operating system fit in 211 k . you couldn't put the Mac OS X logo in 211 k . so the irony is , that as these things became easier to use , a less technical , broader audience was coming into contact with this equipment for the first time . i once had the distinct privilege of sitting in on the Apple call center for a day . the guy had a duplicate headset for me to listen to . and the calls that — you know how they say , your call may be recorded for quality assurance ? uh-uh . your call may be recorded so that they can collect the funniest dumb user stories and pass them around on a CD . which they do . and I have a copy . it's in your gift bag . no , no . with your voices on it . so , some of the stories are just so classic , and yet so understandable . a woman called Apple to complain that her mouse was squeaking . making a squeaking noise . and the technician said , well , ma'am , what do you mean your mouse is squeaking ? she says , all I can tell you is that it squeaks louder , the faster I move it across the screen . and the technician's like , ma'am , you've got the mouse up against the screen ? she goes , well , the message said , 'Click here to continue . ' well , if you like that one — how much time have we got ? another one , a guy called — this is absolutely true — his computer had crashed , and he told the technician he couldn't restart it , no matter how many times he typed 11 . and the technician said , what ? why are you typing 11 ? he said , the message says , 'Error Type 11 . ' so , we must admit that some of the blame falls squarely at the feet of the users . but why is the technical overload crisis , the complexity crisis , accelerating now ? in the hardware world , it's because we the consumers want everything to be smaller , smaller , smaller . so the gadgets are getting tinier and tinier , but our fingers are essentially staying the same size . so it gets to be more and more of a challenge . software is subject to another primal force : the mandate to release more and more versions . when you buy a piece of software , it's not like buying a vase or a candy bar , where you own it . it's more like joining a club , where you pay dues every year , and every year , they say , we've added more features , and we'll sell it to you for 99 . I know one guy who's spent 4,000 just on Photoshop over the years . and software companies make 35 percent of their revenue from just these software upgrades . I call it the Software Upgrade Paradox — which is that if you improve a piece of software enough times , you eventually ruin it . i mean , Microsoft Word was last just a word processor in , you know , the Eisenhower administration . but what's the alternative ? microsoft actually did this experiment . they said , well , wait a minute . everyone complains that we're adding so many features . let's create a word processor that's just a word processor : Simple , pure ; does not do web pages , is not a database . and it came out , and it was called Microsoft Write . and none of you are nodding in acknowledgment , because it died . it tanked . no one ever bought it . I call this the Sport Utility Principle . people like to surround themselves with unnecessary power , right ? they don't need the database and the website , but they're like , well , I'll upgrade , because , I might , you know , I might need that someday . so the problem is : as you add more features , where are they going to go ? where are you going to stick them ? you only have so many design tools . you can do buttons , you can do sliders , pop-up menus , sub-menus . but if you're not careful about how you choose , you wind up with this . this is an un-retouched — this is not a joke — un-retouched photo of Microsoft Word , the copy that you have , with all the toolbars open . you've obviously never opened all the toolbars , but all you have to type in is this little , teeny window down here . and we've arrived at the age of interface matrices , where there are so many features and options , you have to do two dimensions , you know : a vertical and a horizontal . you guys all complain about how Microsoft Word is always bulleting your lists and underlining your links automatically . the off switch is in there somewhere . I'm telling you — it's there . part of the art of designing a simple , good interface , is knowing when to use which one of these features . so , here is the log-off dialogue box for Windows 2000 . there are only four choices , so why are they in a pop-up menu ? it's not like the rest of the screen is so full of other components that you need to collapse the choices . they could have put them all out in view . here's Apple's take on the exact same dialogue box . thank you — yes , I designed the dialogue box . no , no . already , we can see that Apple and Microsoft have a severely divergent approach to software design . microsoft's approach to simplicity tends to be : let's break it down ; let's just make it more steps . there are these wizards everywhere . and you know , there's a new version of Windows coming out this fall . if they continue at this pace , there's absolutely no telling where they might wind up . Welcome to the Type a Word Wizard welcome to the Type a Word Wizard . ok , I'll bite . let's click next to continue . from the drop-down menu , choose the first letter you want to type . ok . so there is a limit that we don't want to cross . so what is the answer ? how do you pack in all these features in a simple , intelligent way ? I believe in consistency , when possible , real-world equivalents , trash can folder , when possible , label things , mostly . but I beg of the designers here to break all those rules if they violate the biggest rule of all , which is intelligence . now what do I mean by that ? I'm going to give you some examples where intelligence makes something not consistent , but it's better . if you are buying something on the web , you're supposed to put in your address , and you're supposed to choose what country you're from , ok ? there are 200 countries in the world . we like to think of the Internet as a global village . I'm sorry ; it's not one yet . it's mainly like , the United States , Europe , and Japan . so why is united States in the u s ? you have to scroll , like , seven screensful to get to it . now , it would be inconsistent to put united States first , but it would be intelligent . this one's been touched on before , but why in God's name do you shut down a Windows PC by clicking a button called start ? here's another pet one of mine : you have a printer . most of the time , you want to print one copy of your document , in page order , on that printer . so why in God's name do you see this every time you print ? it's like a 747 shuttle cockpit . and one of the buttons at the bottom , you'll notice , is not print . now , I'm not saying that Apple is the only company who has embraced the cult of simplicity . palm is also , especially in the old days , wonderful about this . I actually got to speak to Palm when they were flying high in the '90s , and after the talk , I met one of the employees . he says , nice talk . and I said , thank you . what do you do here ? he said , i'm a tap counter . I'm like , you're a what ? he goes , well Jeff Hawkins , the CEO , says , 'If any task on the Palm Pilot takes more than three taps of the stylus , it's too long , and it has to be redesigned . ' So I'm the tap counter . so , I'm going to show you an example of a company that does not have a tap counter . this is Microsoft Word . ok , when you want to create a new blank document in Word — it could happen . you go up to the file menu and you choose new . now , what happens when you choose new ? do you get a new blank document ? you do not . on the opposite side of the monitor , a task bar appears , and somewhere in those links — by the way , not at the top — somewhere in those links is a button that makes you a new document . ok , so that is a company not counting taps . you know , I don't want to just stand here and make fun of Microsoft . . . yes , I do . the Bill Gates song . i've been a geek forever and I wrote the very first DOS . I put my software and IBM together ; I got profit and they got the loss . i write the code that makes the whole world run . I'm getting royalties from everyone . sometimes it's garbage , but the press is snowed . you buy the box ; I'll sell the code . every software company is doing Microsoft's R D . you can't keep a good idea down these days . even Windows is a hack . we're kind of based loosely on the Mac . so it's big , so it's slow . you've got nowhere to go . I'm not doing this for praise . I write the code that fits the world today . big mediocrity in every way . we've entered planet domination mode . you'll have no choice ; you'll buy my code . I am Bill Gates and I write the code . but actually , I believe there are really two Microsofts . there's the old one , responsible for Windows and Office . they're dying to throw the whole thing out and start fresh , but they can't . they're locked in , because so many add-ons and other company stuff locks into the old 1982 chassis . but there's also a new Microsoft , that's really doing good , simple interface designs . I liked the Media Center PC . I liked the Microsoft SPOT Watch . the Wireless Watch flopped miserably in the market , but it wasn't because it wasn't simply and beautifully designed . but let's put it this way : would you pay 10 a month to have a watch that has to be recharged every night like your cell phone , and stops working when you leave your area code ? so , the signs might indicate that the complexity crunch is only going to get worse . so is there any hope ? the screens are getting smaller , people are illuminating , putting manuals in the boxes , things are coming out at a faster pace . it's funny — when Steve Jobs came back to Apple in 1997 , after 12 years away , it was the MacWorld Expo — he came to the stage in that black turtleneck and jeans , and he sort of did this . the crowd went wild , but I had just seen — I'm like , where have I seen this before ? I had just seen the movie evita — with Madonna , and I'm like , you know what ? I've got to do one about Steve Jobs . it won't be easy . you'll think I'm strange . when I try to explain why I'm back , after telling the press Apple's future is black . you won't believe me . all that you see is a kid in his teens who started out in a garage with only a buddy named Woz . you try rhyming with garage . don't cry for me , Cupertino . the truth is , I never left you . I know the ropes now , know what the tricks are . I made a fortune over at Pixar . don't cry for me , Cupertino . I've still got the drive and vision . I still wear sandals in any weather . it's just that these days , they're Gucci leather . thank you . so Steve Jobs had always believed in simplicity and elegance and beauty . and the truth is , for years I was a little depressed , because Americans obviously did not value it , because the Mac had three percent market share , Windows had 95 percent market share — people did not think it was worth putting a price on it . so I was a little depressed . and then I heard Al Gore's talk , and I realized I didn't know the meaning of depressed . but it turns out I was wrong , right ? because the iPod came out , and it violated every bit of common wisdom . other products cost less ; other products had more features , they had voice recorders and FM transmitters . the other products were backed by Microsoft , with an open standard , not Apple's propriety standard . but the iPod won — this is the one they wanted . the lesson was : simplicity sells . and there are signs that the industry is getting the message . this is a little company that's done very well with simplicity and elegance . the Sonos thing — it's catching on . i've got just a couple examples . physically , a really cool , elegant thinking coming along lately . when you have a digital camera , how do you get the pictures back to your computer ? well , you either haul around a USB cable , or you buy a card reader and haul that around . either one , you're going to lose . what I do is , I take out the memory card , and I fold it in half , revealing USB contacts . I just stick it in the computer , offload the pictures , put it right back in the camera . I never have to lose anything . here's another example . chris , you're the source of all power . will you be my power plug ? chris Anderson : Oh yeah . dp : Hold that and don't let go . you might've seen this , this is Apple's new laptop . this the power cord . it hooks on like this . and I'm sure every one of you has done this at some point in your lives , or one of your children . you walk along — and I'm about to pull this onto the floor . I don't care . it's a loaner . here we go . whoa . it's magnetic — it doesn't pull the laptop onto the floor . in my very last example — I do a lot of my work using speech recognition software . and I'll just — you have to be kind of quiet because the software is nervous . speech recognition software is really great for doing emails very quickly ; period . like , I get hundreds of them a day ; period . and it's not just what I dictate that it writes down ; period . I also use this feature called voice macros ; period . correct dissuade . not just . ok , this is not an ideal situation , because it's getting the echo from the hall and stuff . the point is , I can respond to people very quickly by saying a short word , and having it write out a much longer thing . so if somebody sends me a fan letter , I'll say , thanks for that . Thank you so much for taking the time to write . . . And conversely , if somebody sends me hate mail — which happens daily — I say , piss off . I admire your frankness . . . So that's my dirty little secret . don't tell anyone . so the point is — this is a really interesting story . this is version eight of this software , and do you know what they put in version eight ? no new features . it's never happened before in software . the company put no new features . they just said , we'll make this software work right . right ? because for years , people had bought this software , tried it out — 95 percent accuracy was all they got , which means one in 20 words is wrong — and they'd put it in their drawer . and the company got sick of that , so they said , this version , we're not going to do anything , but make sure it's darned accurate . and so that's what they did . this cult of doing things right is starting to spread . so , my final advice for those of you who are consumers of this technology : remember , if it doesn't work , it's not necessarily you , ok ? it could be the design of the thing you're using . be aware in life of good design and bad design . and if you're among the people who create this stuff : Easy is hard . pre-sweat the details for your audience . count the taps . remember , the hard part is not deciding what features to add , it's deciding what to leave out . and best of all , your motivation is : simplicity sells . ca : Bravo . dp : Thank you very much . ca : Hear , hear .\", \"If you're here today — and I'm very happy that you are — you've all heard about how sustainable development will save us from ourselves . however , when we're not at TED , we are often told that a real sustainability policy agenda is just not feasible , especially in large urban areas like New York City . and that's because most people with decision-making powers , in both the public and the private sector , really don't feel as though they're in danger . the reason why I'm here today , in part , is because of a dog — an abandoned puppy I found back in the rain , back in 1998 . she turned out to be a much bigger dog than I'd anticipated . when she came into my life , we were fighting against a huge waste facility planned for the East River waterfront despite the fact that our small part of New York City already handled more than 40 percent of the entire city's commercial waste : a sewage treatment pelletizing plant , a sewage sludge plant , four power plants , the world's largest food-distribution center , as well as other industries that bring more than 60,000 diesel truck trips to the area each week . the area also has one of the lowest ratios of parks to people in the city . so when I was contacted by the Parks Department about a 10,000 seed-grant initiative to help develop waterfront projects , I thought they were really well-meaning , but a bit naive . I'd lived in this area all my life , and you could not get to the river , because of all the lovely facilities that I mentioned earlier . then , while jogging with my dog one morning , she pulled me into what I thought was just another illegal dump . there were weeds and piles of garbage and other stuff that I won't mention here , but she kept dragging me , and lo and behold , at the end of that lot was the river . I knew that this forgotten little street-end , abandoned like the dog that brought me there , was worth saving . and I knew it would grow to become the proud beginnings of the community-led revitalization of the new South Bronx . and just like my new dog , it was an idea that got bigger than I'd imagined . we garnered much support along the way , and the Hunts Point Riverside Park became the first waterfront park that the South Bronx had had in more than 60 years . we leveraged that 10,000 seed grant more than 300 times , into a 3 million park . and in the fall , I'm going to exchange marriage vows with my beloved . thank you very much . that's him pressing my buttons back there , which he does all the time . but those of us living in environmental justice communities are the canary in the coal mine . we feel the problems right now , and have for some time . environmental justice , for those of you who may not be familiar with the term , goes something like this : no community should be saddled with more environmental burdens and less environmental benefits than any other . unfortunately , race and class are extremely reliable indicators as to where one might find the good stuff , like parks and trees , and where one might find the bad stuff , like power plants and waste facilities . as a black person in America , I am twice as likely as a white person to live in an area where air pollution poses the greatest risk to my health . I am five times more likely to live within walking distance of a power plant or chemical facility , which I do . these land-use decisions created the hostile conditions that lead to problems like obesity , diabetes and asthma . why would someone leave their home to go for a brisk walk in a toxic neighborhood ? our 27 percent obesity rate is high even for this country , and diabetes comes with it . one out of four South Bronx children has asthma . our asthma hospitalization rate is seven times higher than the national average . these impacts are coming everyone's way . and we all pay dearly for solid waste costs , health problems associated with pollution and more odiously , the cost of imprisoning our young black and Latino men , who possess untold amounts of untapped potential . fifty percent of our residents live at or below the poverty line ; 25 percent of us are unemployed . low-income citizens often use emergency-room visits as primary care . this comes at a high cost to taxpayers and produces no proportional benefits . poor people are not only still poor , they are still unhealthy . fortunately , there are many people like me who are striving for solutions that won't compromise the lives of low-income communities of color in the short term , and won't destroy us all in the long term . none of us want that , and we all have that in common . so what else do we have in common ? well , first of all , we're all incredibly good-looking . graduated high school , college , post-graduate degrees , traveled to interesting places , didn't have kids in your early teens , financially stable , never been imprisoned . ok . good . but , besides being a black woman , I am different from most of you in some other ways . I watched nearly half of the buildings in my neighborhood burn down . my big brother Lenny fought in Vietnam , only to be gunned down a few blocks from our home . jesus . I grew up with a crack house across the street . yeah , I'm a poor black child from the ghetto . these things make me different from you . but the things we have in common set me apart from most of the people in my community , and I am in between these two worlds with enough of my heart to fight for justice in the other . so how did things get so different for us ? in the late '40s , my dad — a Pullman porter , son of a slave — bought a house in the Hunts Point section of the South Bronx , and a few years later , he married my mom . at the time , the community was a mostly white , working-class neighborhood . my dad was not alone . and as others like him pursued their own version of the American dream , white flight became common in the South Bronx and in many cities around the country . red-lining was used by banks , wherein certain sections of the city , including ours , were deemed off-limits to any sort of investment . many landlords believed it was more profitable to torch their buildings and collect insurance money rather than to sell under those conditions — dead or injured former tenants notwithstanding . hunts Point was formerly a walk-to-work community , but now residents had neither work nor home to walk to . a national highway construction boom was added to our problems . in New York State , Robert Moses spearheaded an aggressive highway-expansion campaign . one of its primary goals was to make it easier for residents of wealthy communities in Westchester County to go to Manhattan . the South Bronx , which lies in between , did not stand a chance . residents were often given less than a month's notice before their buildings were razed . 600,000 people were displaced . the common perception was that only pimps and pushers and prostitutes were from the South Bronx . and if you are told from your earliest days that nothing good is going to come from your community , that it's bad and ugly , how could it not reflect on you ? so now , my family's property was worthless , save for that it was our home , and all we had . and luckily for me , that home and the love inside of it , along with help from teachers , mentors and friends along the way , was enough . now , why is this story important ? because from a planning perspective , economic degradation begets environmental degradation , which begets social degradation . the disinvestment that began in the 1960s set the stage for all the environmental injustices that were to come . antiquated zoning and land-use regulations are still used to this day to continue putting polluting facilities in my neighborhood . are these factors taken into consideration when land-use policy is decided ? what costs are associated with these decisions ? and who pays ? who profits ? does anything justify what the local community goes through ? this was planning — in quotes — that did not have our best interests in mind . once we realized that , we decided it was time to do our own planning . that small park I told you about earlier was the first stage of building a Greenway movement in the South Bronx . I wrote a one-and-a-quarter-million dollar federal transportation grant to design the plan for a waterfront esplanade with dedicated on-street bike paths . physical improvements help inform public policy regarding traffic safety , the placement of the waste and other facilities , which , if done properly , don't compromise a community's quality of life . they provide opportunities to be more physically active , as well as local economic development . think bike shops , juice stands . we secured 20 million dollars to build first-phase projects . this is Lafayette Avenue — and that's redesigned by Mathews Nielsen Landscape Architects . and once this path is constructed , it'll connect the South Bronx with more than 400 acres of Randall's Island Park . right now we're separated by about 25 feet of water , but this link will change that . as we nurture the natural environment , its abundance will give us back even more . we run a project called the Bronx Environmental Stewardship Training , which provides job training in the fields of ecological restoration , so that folks from our community have the skills to compete for these well-paying jobs . little by little , we're seeding the area with green-collar jobs — and with people that have both a financial and personal stake in their environment . the Sheridan Expressway is an underutilized relic of the Robert Moses era , built with no regard for the neighborhoods that were divided by it . even during rush hour , it goes virtually unused . the community created an alternative transportation plan that allows for the removal of the highway . we have the opportunity now to bring together all the stakeholders to re-envision how this 28 acres can be better utilized for parkland , affordable housing and local economic development . we also built New York City's first green and cool roof demonstration project on top of our offices . cool roofs are highly-reflective surfaces that don't absorb solar heat , and pass it on to the building or atmosphere . green roofs are soil and living plants . both can be used instead of petroleum-based roofing materials that absorb heat , contribute to urban heat island effect and degrade under the sun , which we in turn breathe . green roofs also retain up to 75 percent of rainfall , so they reduce a city's need to fund costly end-of-pipe solutions — which , incidentally , are often located in environmental justice communities like mine . and they provide habitats for our little friends . Butterfly So cool . anyway , the demonstration project is a springboard for our own green roof installation business , bringing jobs and sustainable economic activity to the South Bronx . Green is the new black . . . I like that , too . anyway , I know Chris told us not to do pitches up here , but since I have all of your attention : We need investors . end of pitch . it's better to ask for forgiveness than permission . anyway — OK . katrina . prior to Katrina , the South Bronx and New Orleans' Ninth Ward had a lot in common . both were largely populated by poor people of color , both hotbeds of cultural innovation : think hip-hop and jazz . both are waterfront communities that host both industries and residents in close proximity of one another . in the post-Katrina era , we have still more in common . we're at best ignored , and maligned and abused , at worst , by negligent regulatory agencies , pernicious zoning and lax governmental accountability . neither the destruction of the Ninth Ward nor the South Bronx was inevitable . but we have emerged with valuable lessons about how to dig ourselves out . we are more than simply national symbols of urban blight or problems to be solved by empty campaign promises of presidents come and gone . now will we let the Gulf Coast languish for a decade or two , like the South Bronx did ? or will we take proactive steps and learn from the homegrown resource of grassroots activists that have been born of desperation in communities like mine ? now listen , I do not expect individuals , corporations or government to make the world a better place because it is right or moral . this presentation today only represents some of what I've been through . like a tiny little bit . you've no clue . but I'll tell you later , if you want to know . but — I know it's the bottom line , or one's perception of it , that motivates people in the end . I'm interested in what I like to call the triple bottom line that sustainable development can produce . developments that have the potential to create positive returns for all concerned : the developers , government and the community where these projects go up . at present , that's not happening in New York City . and we are operating with a comprehensive urban-planning deficit . a parade of government subsidies is going to propose big-box and stadium developments in the South Bronx , but there is scant coordination between city agencies on how to deal with the cumulative effects of increased traffic , pollution , solid waste and the impacts on open space . and their approaches to local economic and job development are so lame it's not even funny . because on top of that , the world's richest sports team is replacing the House That Ruth Built by destroying two well-loved community parks . now , we'll have even less than that stat I told you about earlier . and although less than 25 percent of South Bronx residents own cars , these projects include thousands of new parking spaces , yet zip in terms of mass public transit . now , what's missing from the larger debate is a comprehensive cost-benefit analysis between not fixing an unhealthy , environmentally-challenged community , versus incorporating structural , sustainable changes . my agency is working closely with Columbia University and others to shine a light on these issues . now let's get this straight : I am not anti-development . ours is a city , not a wilderness preserve . and I've embraced my inner capitalist . and , but I don't have — You probably all have , and if you haven't , you need to . so I don't have a problem with developers making money . there's enough precedent out there to show that a sustainable , community-friendly development can still make a fortune . fellow TEDsters Bill McDonough and Amory Lovins — both heroes of mine by the way — have shown that you can actually do that . I do have a problem with developments that hyper-exploit politically vulnerable communities for profit . that it continues is a shame upon us all , because we are all responsible for the future that we create . but one of the things I do to remind myself of greater possibilities , is to learn from visionaries in other cities . this is my version of globalization . let's take Bogota . poor , Latino , surrounded by runaway gun violence and drug trafficking ; a reputation not unlike that of the South Bronx . however , this city was blessed in the late 1990s with a highly-influential mayor named Enrique Penalosa . he looked at the demographics . few Bogotanos own cars , yet a huge portion of the city's resources was dedicated to serving them . if you're a mayor , you can do something about that . his administration narrowed key municipal thoroughfares from five lanes to three , outlawed parking on those streets , expanded pedestrian walkways and bike lanes , created public plazas , created one of the most efficient bus mass-transit systems in the entire world . for his brilliant efforts , he was nearly impeached . but as people began to see that they were being put first on issues reflecting their day-to-day lives , incredible things happened . people stopped littering . crime rates dropped , because the streets were alive with people . his administration attacked several typical urban problems at one time , and on a third-world budget , at that . we have no excuse in this country , I'm sorry . but the bottom line is : their people-first agenda was not meant to penalize those who could actually afford cars , but rather , to provide opportunities for all Bogotanos to participate in the city's resurgence . that development should not come at the expense of the majority of the population is still considered a radical idea here in the U . s . but Bogota's example has the power to change that . you , however , are blessed with the gift of influence . that's why you're here and why you value the information we exchange . use your influence in support of comprehensive , sustainable change everywhere . don't just talk about it at TED . this is a nationwide policy agenda I'm trying to build , and as you all know , politics are personal . help me make green the new black . help me make sustainability sexy . make it a part of your dinner and cocktail conversations . help me fight for environmental and economic justice . support investments with a triple-bottom-line return . help me democratize sustainability by bringing everyone to the table , and insisting that comprehensive planning can be addressed everywhere . oh good , glad I have a little more time . listen — when I spoke to Mr . gore the other day after breakfast , I asked him how environmental justice activists were going to be included in his new marketing strategy . his response was a grant program . I don't think he understood that I wasn't asking for funding . I was making him an offer . what troubled me was that this top-down approach is still around . now , don't get me wrong , we need money . but grassroots groups are needed at the table during the decision-making process . of the 90 percent of the energy that Mr . gore reminded us that we waste every day , don't add wasting our energy , intelligence and hard-earned experience to that count . i have come from so far to meet you like this . please don't waste me . by working together , we can become one of those small , rapidly-growing groups of individuals who actually have the audacity and courage to believe that we actually can change the world . we might have come to this conference from very , very different stations in life , but believe me , we all share one incredibly powerful thing . we have nothing to lose and everything to gain . ciao , bellos .\", \"About 10 years ago , I took on the task to teach global development to Swedish undergraduate students . that was after having spent about 20 years together with African institutions studying hunger in Africa , so I was sort of expected to know a little about the world . and I started in our medical university , Karolinska Institute , an undergraduate course called Global Health . but when you get that opportunity , you get a little nervous . I thought , these students coming to us actually have the highest grade you can get in Swedish college systems — so I thought , maybe they know everything I'm going to teach them about . so I did a pre-test when they came . and one of the questions from which I learned a lot was this one : which country has the highest child mortality of these five pairs ? i put them together , so that in each pair of country , one has twice the child mortality of the other . and this means that it's much bigger a difference than the uncertainty of the data . I won't put you at a test here , but it's Turkey , which is highest there , Poland , Russia , Pakistan and South Africa . and these were the results of the Swedish students . I did it so I got the confidence interval , which is pretty narrow , and I got happy , of course : a 1 . 8 right answer out of five possible . that means that there was a place for a professor of international health and for my course . but one late night , when I was compiling the report , I really realized my discovery . I have shown that Swedish top students know statistically significantly less about the world than the chimpanzees . because the chimpanzee would score half right if I gave them two bananas with Sri Lanka and Turkey . they would be right half of the cases . but the students are not there . the problem for me was not ignorance ; it was preconceived ideas . i did also an unethical study of the professors of the Karolinska Institute , that hands out the Nobel Prize in Medicine , and they are on par with the chimpanzee there . this is where I realized that there was really a need to communicate , because the data of what's happening in the world and the child health of every country is very well aware . we did this software which displays it like this : every bubble here is a country . this country over here is China . this is India . the size of the bubble is the population , and on this axis here , I put fertility rate . because my students , what they said when they looked upon the world , and I asked them , what do you really think about the world ? well , I first discovered that the textbook was Tintin , mainly . and they said , the world is still 'we' and 'them . ' And 'we' is Western world and 'them' is Third World . and what do you mean with Western world ? I said . well , that's long life and small family , and Third World is short life and large family . so this is what I could display here . I put fertility rate here : number of children per woman : one , two , three , four , up to about eight children per woman . we have very good data since 1962 — 1960 about — on the size of families in all countries . the error margin is narrow . here , I put life expectancy at birth , from 30 years in some countries up to about 70 years . and 1962 , there was really a group of countries here that was industrialized countries , and they had small families and long lives . and these were the developing countries : they had large families and they had relatively short lives . now , what has happened since 1962 ? we want to see the change . are the students right ? is it still two types of countries ? or have these developing countries got smaller families and they live here ? or have they got longer lives and live up there ? let's see . we stopped the world then . this is all U . n . statistics that have been available . here we go . can you see there ? it's China there , moving against better health there , improving there . all the green Latin American countries are moving towards smaller families . your yellow ones here are the Arabic countries , and they get longer life , but not larger families . the Africans are the green here . they still remain here . this is India ; Indonesia is moving on pretty fast . in the '80s here , you have Bangladesh still among the African countries . but now , Bangladesh — it's a miracle that happens in the '80s : the imams start to promote family planning . they move up into that corner . and in the '90s , we have the terrible HIV epidemic that takes down the life expectancy of the African countries and all the rest of them move up into the corner , where we have long lives and small family , and we have a completely new world . let me make a comparison directly between the United States of America and Vietnam . 1964 . america had small families and long life ; Vietnam had large families and short lives . and this is what happens : the data during the war indicate that even with all the death , there was an improvement of life expectancy . by the end of the year , the family planning started in Vietnam ; they went for smaller families . and the United States up there is getting for longer life , keeping family size . and in the '80s now , they give up Communist planning and they go for market economy , and it moves faster even than social life . and today , we have in Vietnam the same life expectancy and the same family size here in Vietnam , 2003 , as in United States , 1974 , by the end of the war . if we don't look in the data , I think we all underestimate the tremendous change in Asia , which was in social change before we saw the economical change . let's move over to another way here in which we could display the distribution in the world of the income . this is the world distribution of income of people . one dollar , 10 dollars or 100 dollars per day . there's no gap between rich and poor any longer . this is a myth . there's a little hump here . but there are people all the way . and if we look where the income ends up , this is 100 percent the world's annual income . and the richest 20 percent , they take out of that about 74 percent . and the poorest 20 percent , they take about two percent . and this shows that the concept of developing countries is extremely doubtful . we think about aid , like these people here giving aid to these people here . but in the middle , we have most of the world population , and they have now 24 percent of the income . we heard it in other forms . and who are these ? where are the different countries ? I can show you Africa . this is Africa . 10 the world population , most in poverty . this is OECD . the rich country . the country club of the U . n . and they are over here on this side . quite an overlap between Africa and OECD . and this is Latin America . it has everything on this Earth , from the poorest to the richest in Latin America . and on top of that , we can put East Europe , we can put East Asia , and we put South Asia . and how did it look like if we go back in time , to about 1970 ? then there was more of a hump . and we have most who lived in absolute poverty were Asians . the problem in the world was the poverty in Asia . and if I now let the world move forward , you will see that while population increases , there are hundreds of millions in Asia getting out of poverty and some others getting into poverty , and this is the pattern we have today . and the best projection from the World Bank is that this will happen , and we will not have a divided world . we'll have most people in the middle . of course it's a logarithmic scale here , but our concept of economy is growth with percent . we look upon it as a possibility of percentile increase . if I change this , and take GDP per capita instead of family income , and I turn these individual data into regional data of gross domestic product , and I take the regions down here , the size of the bubble is still the population . and you have the OECD there , and you have sub-Saharan Africa there , and we take off the Arab states there , coming both from Africa and from Asia , and we put them separately , and we can expand this axis , and I can give it a new dimension here , by adding the social values there , child survival . now I have money on that axis , and I have the possibility of children to survive there . in some countries , 99 . 7 of children survive to five years of age ; others , only 70 . and here , it seems , there is a gap between OECD , Latin America , East Europe , East Asia , Arab states , South Asia and sub-Saharan Africa . the linearity is very strong between child survival and money . but let me split sub-Saharan Africa . health is there and better health is up there . I can go here and I can split sub-Saharan Africa into its countries . and when it burst , the size of its country bubble is the size of the population . sierra Leone down there . mauritius is up there . mauritius was the first country to get away with trade barriers , and they could sell their sugar — they could sell their textiles — on equal terms as the people in Europe and North America . there's a huge difference between Africa . and Ghana is here in the middle . in Sierra Leone , humanitarian aid . here in Uganda , development aid . here , time to invest ; there , you can go for a holiday . it's a tremendous variation within Africa which we rarely often make — that it's equal everything . I can split South Asia here . india's the big bubble in the middle . but a huge difference between Afghanistan and Sri Lanka . I can split Arab states . how are they ? same climate , same culture , same religion — huge difference . even between neighbors . yemen , civil war . united Arab Emirates , money , which was quite equally and well used . not as the myth is . and that includes all the children of the foreign workers who are in the country . data is often better than you think . many people say data is bad . there is an uncertainty margin , but we can see the difference here : Cambodia , Singapore . the differences are much bigger than the weakness of the data . east Europe : Soviet economy for a long time , but they come out after 10 years very , very differently . and there is Latin America . today , we don't have to go to Cuba to find a healthy country in Latin America . chile will have a lower child mortality than Cuba within some few years from now . here , we have high-income countries in the OECD . and we get the whole pattern here of the world , which is more or less like this . and if we look at it , how the world looks , in 1960 , it starts to move . this is Mao Tse-tung . he brought health to China . and then he died . and then Deng Xiaoping came and brought money to China , and brought them into the mainstream again . and we have seen how countries move in different directions like this , so it's sort of difficult to get an example country which shows the pattern of the world . but I would like to bring you back to about here , at 1960 . I would like to compare South Korea , which is this one , with Brazil , which is this one . the label went away for me here . and I would like to compare Uganda , which is there . and I can run it forward , like this . and you can see how South Korea is making a very , very fast advancement , whereas Brazil is much slower . and if we move back again , here , and we put on trails on them , like this , you can see again that the speed of development is very , very different , and the countries are moving more or less in the same rate as money and health , but it seems you can move much faster if you are healthy first than if you are wealthy first . and to show that , you can put on the way of United Arab Emirates . they came from here , a mineral country . they cached all the oil ; they got all the money ; but health cannot be bought at the supermarket . you have to invest in health . you have to get kids into schooling . you have to train health staff . you have to educate the population . and Sheikh Zayed did that in a fairly good way . in spite of falling oil prices , he brought this country up here . so we've got a much more mainstream appearance of the world , where all countries tend to use their money better than they used in the past . now , this is , more or less , if you look at the average data of the countries — they are like this . now that's dangerous , to use average data , because there is such a lot of difference within countries . so if I go and look here , we can see that Uganda today is where South Korea was in 1960 . if I split Uganda , there's quite a difference within Uganda . these are the quintiles of Uganda . the richest 20 percent of Ugandans are there . the poorest are down there . if I split South Africa , it's like this . and if I go down and look at Niger , where there was such a terrible famine , lastly , it's like this . the 20 percent poorest of Niger is out here , and the 20 percent richest of South Africa is there , and yet we tend to discuss on what solutions there should be in Africa . everything in this world exists in Africa . and you can't discuss universal access to HIV medicine for that quintile up here with the same strategy as down here . the improvement of the world must be highly contextualized , and it's not relevant to have it on regional level . we must be much more detailed . we find that students get very excited when they can use this . and even more , policy makers and the corporate sectors would like to see how the world is changing . now , why doesn't this take place ? why are we not using the data we have ? we have data in the United Nations , in the national statistical agencies and in universities and other non-governmental organizations . because the data is hidden down in the databases . and the public is there , and the Internet is there , but we have still not used it effectively . all that information we saw changing in the world does not include publicly-funded statistics . there are some web pages like this , you know , but they take some nourishment down from the databases , but people put prices on them , stupid passwords and boring statistics . and this won't work . so what is needed ? we have the databases . it's not the new database you need . we have wonderful design tools , and more and more are added up here . so we started a nonprofit venture which , linking data to design , we called Gapminder , from the London Underground , where they warn you , mind the gap . so we thought Gapminder was appropriate . and we started to write software which could link the data like this . and it wasn't that difficult . it took some person years , and we have produced animations . you can take a data set and put it there . we are liberating U . n . data , some few U . n . organization . some countries accept that their databases can go out on the world , but what we really need is , of course , a search function . a search function where we can copy the data up to a searchable format and get it out in the world . and what do we hear when we go around ? I've done anthropology on the main statistical units . everyone says , it's impossible . this can't be done . our information is so peculiar in detail , so that cannot be searched as others can be searched . we cannot give the data free to the students , free to the entrepreneurs of the world . but this is what we would like to see , isn't it ? the publicly-funded data is down here . and we would like flowers to grow out on the Net . and one of the crucial points is to make them searchable , and then people can use the different design tool to animate it there . and I have pretty good news for you . I have good news that the present , new Head of U . n . statistics , he doesn't say it's impossible . he only says , we can't do it . and that's a quite clever guy , huh ? so we can see a lot happening in data in the coming years . we will be able to look at income distributions in completely new ways . this is the income distribution of China , 1970 . this is the income distribution of the United States , 1970 . almost no overlap . and what has happened ? what has happened is this : that China is growing , it's not so equal any longer , and it's appearing here , overlooking the United States . almost like a ghost , isn't it ? it's pretty scary . but I think it's very important to have all this information . we need really to see it . and instead of looking at this , I would like to end up by showing the Internet users per 1,000 . in this software , we access about 500 variables from all the countries quite easily . it takes some time to change for this , but on the axises , you can quite easily get any variable you would like to have . and the thing would be to get up the databases free , to get them searchable , and with a second click , to get them into the graphic formats , where you can instantly understand them . now , statisticians don't like it , because they say that this will not show the reality ; we have to have statistical , analytical methods . but this is hypothesis-generating . i end now with the world . there , the Internet is coming . the number of Internet users are going up like this . this is the GDP per capita . and it's a new technology coming in , but then amazingly , how well it fits to the economy of the countries . that's why the 100 computer will be so important . but it's a nice tendency . it's as if the world is flattening off , isn't it ? these countries are lifting more than the economy and will be very interesting to follow this over the year , as I would like you to be able to do with all the publicly funded data . thank you very much .\"]\n"
     ]
    }
   ],
   "source": [
    "print(clean_transcripts[:5])"
   ]
  },
  {
   "cell_type": "code",
   "execution_count": 29,
   "metadata": {},
   "outputs": [
    {
     "name": "stdout",
     "output_type": "stream",
     "text": [
      "2467\n"
     ]
    }
   ],
   "source": [
    "print(len(clean_transcripts))"
   ]
  },
  {
   "cell_type": "code",
   "execution_count": 30,
   "metadata": {},
   "outputs": [],
   "source": [
    "from sklearn.model_selection import train_test_split\n",
    "\n",
    "train_transcripts = clean_transcripts[:-int(0.2*len(clean_transcripts))]\n",
    "test_transcripts = clean_transcripts[-int(0.2*len(clean_transcripts)):]\n"
   ]
  },
  {
   "cell_type": "code",
   "execution_count": 31,
   "metadata": {},
   "outputs": [],
   "source": [
    "tokenizer = tfds.features.text.SubwordTextEncoder.build_from_corpus(\n",
    "    (tr for tr in train_transcripts), target_vocab_size=2**13)"
   ]
  },
  {
   "cell_type": "code",
   "execution_count": 32,
   "metadata": {},
   "outputs": [
    {
     "name": "stdout",
     "output_type": "stream",
     "text": [
      "Tokenized string is [5351, 1119, 342, 12, 734, 7929]\n",
      "The original string: punctuation is important.\n"
     ]
    }
   ],
   "source": [
    "sample_string = 'punctuation is important.'\n",
    "\n",
    "tokenized_string = tokenizer.encode(sample_string)\n",
    "print('Tokenized string is {}'.format(tokenized_string))\n",
    "\n",
    "original_string = tokenizer.decode(tokenized_string)\n",
    "print('The original string: {}'.format(original_string))"
   ]
  },
  {
   "cell_type": "code",
   "execution_count": 33,
   "metadata": {},
   "outputs": [
    {
     "name": "stdout",
     "output_type": "stream",
     "text": [
      "5351 ----> punc\n",
      "1119 ----> tu\n",
      "342 ----> ation \n",
      "12 ----> is \n",
      "734 ----> important\n",
      "7929 ----> .\n"
     ]
    }
   ],
   "source": [
    "for ts in tokenized_string:\n",
    "    print('{} ----> {}'.format(ts, tokenizer.decode([ts])))"
   ]
  },
  {
   "cell_type": "code",
   "execution_count": 34,
   "metadata": {},
   "outputs": [
    {
     "name": "stdout",
     "output_type": "stream",
     "text": [
      "8139\n"
     ]
    }
   ],
   "source": [
    "BUFFER_SIZE = 2000\n",
    "BATCH_SIZE = 64\n",
    "\n",
    "MAX_LENGTH = 80\n",
    "print(tokenizer.vocab_size)\n"
   ]
  },
  {
   "cell_type": "code",
   "execution_count": null,
   "metadata": {},
   "outputs": [],
   "source": []
  },
  {
   "cell_type": "code",
   "execution_count": 35,
   "metadata": {},
   "outputs": [],
   "source": [
    "def create_dataset(transcripts):\n",
    "    max_words = 120\n",
    "    max_len = 256\n",
    "    samples_per_tran = 20\n",
    "    \n",
    "    dataset = []\n",
    "\n",
    "    act_max_len_en = 0\n",
    "\n",
    "    _lens = []\n",
    "    \n",
    "    for i in range(samples_per_tran):\n",
    "\n",
    "        for tran in transcripts:\n",
    "            \n",
    "            if not tran:\n",
    "                continue\n",
    "            \n",
    "            \n",
    "            c = tran.count(\" \")\n",
    "            \n",
    "            sp_tran = tran.split(\" \")\n",
    "            \n",
    "            if c < max_words:\n",
    "                print('c:', c)\n",
    "                continue\n",
    "\n",
    "            sp_i = np.random.randint(c-max_words)\n",
    "            \n",
    "            target = \" \".join(sp_tran[sp_i:sp_i+max_words])\n",
    "            \n",
    "            origin = re.sub(\" [\" + PUNCT + \"] \", \" \", target)\n",
    "            \n",
    "            \n",
    "            # encode text and add start and end token \n",
    "            enc_origin = [tokenizer.vocab_size] + tokenizer.encode(origin) + [tokenizer.vocab_size+1]\n",
    "            enc_target = [tokenizer.vocab_size] + tokenizer.encode(target) + [tokenizer.vocab_size+1]\n",
    "            \n",
    "            if len(enc_origin)+2 > max_len or len(enc_target)+2 > max_len:\n",
    "                print('encoding too long!')\n",
    "                continue\n",
    "            \n",
    "            _lens.append(len(enc_origin))\n",
    "            _lens.append(len(enc_target))\n",
    "\n",
    "            \n",
    "            \n",
    "            dataset.append((enc_origin, enc_target))\n",
    "    \n",
    "    origin_dataset = np.zeros((len(dataset), max_len))\n",
    "    target_dataset = np.zeros((len(dataset), max_len))\n",
    "    \n",
    "    for i in range(len(dataset)):\n",
    "        origin_dataset[i][:len(dataset[i][0])] = dataset[i][0]\n",
    "        target_dataset[i][:len(dataset[i][1])] = dataset[i][1]\n",
    "\n",
    "    print(max(_lens))\n",
    "    \n",
    "    \n",
    "    dataset = tf.data.Dataset.from_tensor_slices((origin_dataset.astype(np.int64), target_dataset.astype(np.int64))).shuffle(BUFFER_SIZE)\n",
    "    dataset = dataset.batch(BATCH_SIZE, drop_remainder=True)\n",
    "    return dataset"
   ]
  },
  {
   "cell_type": "code",
   "execution_count": 37,
   "metadata": {},
   "outputs": [
    {
     "name": "stdout",
     "output_type": "stream",
     "text": [
      "c: 116\n",
      "c: 117\n",
      "c: 21\n",
      "c: 19\n",
      "c: 117\n",
      "encoding too long!\n",
      "c: 116\n",
      "c: 117\n",
      "c: 21\n",
      "c: 19\n",
      "c: 117\n",
      "encoding too long!\n",
      "c: 116\n",
      "c: 117\n",
      "c: 21\n",
      "c: 19\n",
      "c: 117\n",
      "c: 116\n",
      "c: 117\n",
      "c: 21\n",
      "c: 19\n",
      "c: 117\n",
      "c: 116\n",
      "c: 117\n",
      "c: 21\n",
      "c: 19\n",
      "c: 117\n",
      "c: 116\n",
      "c: 117\n",
      "c: 21\n",
      "c: 19\n",
      "c: 117\n",
      "encoding too long!\n",
      "c: 116\n",
      "c: 117\n",
      "c: 21\n",
      "c: 19\n",
      "c: 117\n",
      "c: 116\n",
      "c: 117\n",
      "c: 21\n",
      "c: 19\n",
      "c: 117\n",
      "c: 116\n",
      "c: 117\n",
      "c: 21\n",
      "c: 19\n",
      "c: 117\n",
      "c: 116\n",
      "c: 117\n",
      "c: 21\n",
      "c: 19\n",
      "c: 117\n",
      "encoding too long!\n",
      "c: 116\n",
      "c: 117\n",
      "c: 21\n",
      "c: 19\n",
      "c: 117\n",
      "c: 116\n",
      "c: 117\n",
      "c: 21\n",
      "c: 19\n",
      "c: 117\n",
      "c: 116\n",
      "c: 117\n",
      "c: 21\n",
      "c: 19\n",
      "c: 117\n",
      "c: 116\n",
      "c: 117\n",
      "c: 21\n",
      "c: 19\n",
      "c: 117\n",
      "encoding too long!\n",
      "c: 116\n",
      "c: 117\n",
      "c: 21\n",
      "c: 19\n",
      "c: 117\n",
      "c: 116\n",
      "c: 117\n",
      "c: 21\n",
      "c: 19\n",
      "c: 117\n",
      "c: 116\n",
      "c: 117\n",
      "c: 21\n",
      "c: 19\n",
      "c: 117\n",
      "c: 116\n",
      "c: 117\n",
      "c: 21\n",
      "c: 19\n",
      "c: 117\n",
      "c: 116\n",
      "c: 117\n",
      "c: 21\n",
      "c: 19\n",
      "c: 117\n",
      "encoding too long!\n",
      "c: 116\n",
      "c: 117\n",
      "c: 21\n",
      "c: 19\n",
      "c: 117\n",
      "encoding too long!\n",
      "247\n"
     ]
    }
   ],
   "source": [
    "train_dataset = create_dataset(train_transcripts)"
   ]
  },
  {
   "cell_type": "code",
   "execution_count": null,
   "metadata": {},
   "outputs": [],
   "source": []
  },
  {
   "cell_type": "code",
   "execution_count": null,
   "metadata": {},
   "outputs": [],
   "source": []
  },
  {
   "cell_type": "code",
   "execution_count": null,
   "metadata": {},
   "outputs": [],
   "source": []
  },
  {
   "cell_type": "markdown",
   "metadata": {},
   "source": [
    "## Positional encoding"
   ]
  },
  {
   "cell_type": "code",
   "execution_count": 38,
   "metadata": {},
   "outputs": [],
   "source": [
    "def get_angles(pos, i, d_model):\n",
    "    angle_rates = 1 / np.power(10000, (2 * (i//2)) / np.float32(d_model)) # (1, len(i))\n",
    "    return pos * angle_rates"
   ]
  },
  {
   "cell_type": "code",
   "execution_count": 39,
   "metadata": {},
   "outputs": [],
   "source": [
    "def positional_encoding(position, d_model):\n",
    "    angle_rads = get_angles(np.arange(position)[:, np.newaxis],\n",
    "                          np.arange(d_model)[np.newaxis, :],\n",
    "                          d_model)\n",
    "    \n",
    "    # apply sin to even indices in the array; 2i\n",
    "    angle_rads[:, 0::2] = np.sin(angle_rads[:, 0::2])\n",
    "\n",
    "    # apply cos to odd indices in the array; 2i+1\n",
    "    angle_rads[:, 1::2] = np.cos(angle_rads[:, 1::2])\n",
    "\n",
    "    pos_encoding = angle_rads[np.newaxis, ...]\n",
    "\n",
    "    return tf.cast(pos_encoding, dtype=tf.float32)"
   ]
  },
  {
   "cell_type": "code",
   "execution_count": 40,
   "metadata": {},
   "outputs": [
    {
     "name": "stdout",
     "output_type": "stream",
     "text": [
      "(1, 50, 512)\n"
     ]
    },
    {
     "data": {
      "image/png": "[encoded data removed]",
      "text/plain": [
       "<Figure size 432x288 with 2 Axes>"
      ]
     },
     "metadata": {
      "needs_background": "light"
     },
     "output_type": "display_data"
    }
   ],
   "source": [
    "pos_encoding = positional_encoding(50, 512)\n",
    "print (pos_encoding.shape)\n",
    "a = pos_encoding.numpy()\n",
    "\n",
    "plt.pcolormesh(pos_encoding[0], cmap='RdBu', vmin=-1, vmax=1)\n",
    "\n",
    "plt.xlabel('Depth')\n",
    "plt.xlim((0, 512))\n",
    "plt.ylabel('Position')\n",
    "plt.colorbar()\n",
    "plt.show()"
   ]
  },
  {
   "cell_type": "code",
   "execution_count": null,
   "metadata": {},
   "outputs": [],
   "source": []
  },
  {
   "cell_type": "markdown",
   "metadata": {},
   "source": [
    "## Masking"
   ]
  },
  {
   "cell_type": "code",
   "execution_count": 41,
   "metadata": {},
   "outputs": [],
   "source": [
    "def create_padding_mask(seq):\n",
    "    seq = tf.cast(tf.math.equal(seq, 0), tf.float32)\n",
    "\n",
    "    # add extra dimensions to add the padding\n",
    "    # to the attention logits.\n",
    "    return seq[:, tf.newaxis, tf.newaxis, :]  # (batch_size, 1, 1, seq_len)"
   ]
  },
  {
   "cell_type": "code",
   "execution_count": null,
   "metadata": {},
   "outputs": [],
   "source": []
  },
  {
   "cell_type": "code",
   "execution_count": 42,
   "metadata": {},
   "outputs": [],
   "source": [
    "def create_look_ahead_mask(size):\n",
    "    mask = 1 - tf.linalg.band_part(tf.ones((size, size)), -1, 0)\n",
    "    return mask  # (seq_len, seq_len)"
   ]
  },
  {
   "cell_type": "code",
   "execution_count": null,
   "metadata": {},
   "outputs": [],
   "source": []
  },
  {
   "cell_type": "markdown",
   "metadata": {},
   "source": [
    "## Scaled dot product attention"
   ]
  },
  {
   "cell_type": "code",
   "execution_count": 43,
   "metadata": {},
   "outputs": [],
   "source": [
    "def scaled_dot_product_attention(q, k, v, mask):\n",
    "    \"\"\"Calculate the attention weights.\n",
    "    q, k, v must have matching leading dimensions.\n",
    "    k, v must have matching penultimate dimension, i.e.: seq_len_k = seq_len_v.\n",
    "    The mask has different shapes depending on its type(padding or look ahead) \n",
    "    but it must be broadcastable for addition.\n",
    "\n",
    "    Args:\n",
    "        q: query shape == (..., seq_len_q, depth)\n",
    "        k: key shape == (..., seq_len_k, depth)\n",
    "        v: value shape == (..., seq_len_v, depth_v)\n",
    "        mask: Float tensor with shape broadcastable \n",
    "              to (..., seq_len_q, seq_len_k). Defaults to None.\n",
    "\n",
    "    Returns:\n",
    "        output, attention_weights\n",
    "    \"\"\"\n",
    "\n",
    "    matmul_qk = tf.matmul(q, k, transpose_b=True)  # (..., seq_len_q, seq_len_k)\n",
    "    # scale matmul_qk\n",
    "    dk = tf.cast(tf.shape(k)[-1], tf.float32)\n",
    "    scaled_attention_logits = matmul_qk / tf.math.sqrt(dk)\n",
    "    # add the mask to the scaled tensor.\n",
    "    if mask is not None:\n",
    "        scaled_attention_logits += (mask * -1e9)  \n",
    "    # softmax is normalized on the last axis (seq_len_k) so that the scores\n",
    "    # add up to 1.\n",
    "    attention_weights = tf.nn.softmax(scaled_attention_logits, axis=-1)  # (..., seq_len_q, seq_len_k)\n",
    "\n",
    "    output = tf.matmul(attention_weights, v)  # (..., seq_len_q, depth_v)\n",
    "\n",
    "    return output, attention_weights"
   ]
  },
  {
   "cell_type": "code",
   "execution_count": null,
   "metadata": {},
   "outputs": [],
   "source": []
  },
  {
   "cell_type": "code",
   "execution_count": null,
   "metadata": {},
   "outputs": [],
   "source": []
  },
  {
   "cell_type": "markdown",
   "metadata": {},
   "source": [
    "## Multi-head attention"
   ]
  },
  {
   "cell_type": "code",
   "execution_count": 44,
   "metadata": {},
   "outputs": [],
   "source": [
    "class MultiHeadAttention(tf.keras.layers.Layer):\n",
    "    def __init__(self, d_model, num_heads):\n",
    "        super(MultiHeadAttention, self).__init__()\n",
    "        self.num_heads = num_heads\n",
    "        self.d_model = d_model\n",
    "\n",
    "        assert d_model % self.num_heads == 0\n",
    "\n",
    "        self.depth = d_model // self.num_heads\n",
    "\n",
    "        self.wq = tf.keras.layers.Dense(d_model)\n",
    "        self.wk = tf.keras.layers.Dense(d_model)\n",
    "        self.wv = tf.keras.layers.Dense(d_model)\n",
    "\n",
    "        self.dense = tf.keras.layers.Dense(d_model)\n",
    "        \n",
    "    def split_heads(self, x, batch_size):\n",
    "        \"\"\"Split the last dimension into (num_heads, depth).\n",
    "        Transpose the result such that the shape is (batch_size, num_heads, seq_len, depth)\n",
    "        \"\"\"\n",
    "        x = tf.reshape(x, (batch_size, -1, self.num_heads, self.depth))\n",
    "        return tf.transpose(x, perm=[0, 2, 1, 3])\n",
    "\n",
    "    def call(self, v, k, q, mask):\n",
    "        batch_size = tf.shape(q)[0]\n",
    "\n",
    "        q = self.wq(q)  # (batch_size, seq_len, d_model)\n",
    "        k = self.wk(k)  # (batch_size, seq_len, d_model)\n",
    "        v = self.wv(v)  # (batch_size, seq_len, d_model)\n",
    "\n",
    "        q = self.split_heads(q, batch_size)  # (batch_size, num_heads, seq_len_q, depth)\n",
    "        k = self.split_heads(k, batch_size)  # (batch_size, num_heads, seq_len_k, depth)\n",
    "        v = self.split_heads(v, batch_size)  # (batch_size, num_heads, seq_len_v, depth)\n",
    "\n",
    "        # scaled_attention.shape == (batch_size, num_heads, seq_len_q, depth)\n",
    "        # attention_weights.shape == (batch_size, num_heads, seq_len_q, seq_len_k)\n",
    "        scaled_attention, attention_weights = scaled_dot_product_attention(q, k, v, mask)\n",
    "\n",
    "        scaled_attention = tf.transpose(scaled_attention, perm=[0, 2, 1, 3])  # (batch_size, seq_len_q, num_heads, depth)\n",
    "\n",
    "        concat_attention = tf.reshape(scaled_attention, \n",
    "                                      (batch_size, -1, self.d_model))  # (batch_size, seq_len_q, d_model)\n",
    "\n",
    "        output = self.dense(concat_attention)  # (batch_size, seq_len_q, d_model)\n",
    "\n",
    "        return output, attention_weights"
   ]
  },
  {
   "cell_type": "code",
   "execution_count": null,
   "metadata": {},
   "outputs": [],
   "source": []
  },
  {
   "cell_type": "code",
   "execution_count": null,
   "metadata": {},
   "outputs": [],
   "source": []
  },
  {
   "cell_type": "markdown",
   "metadata": {},
   "source": [
    "## Point wise feed forward network"
   ]
  },
  {
   "cell_type": "code",
   "execution_count": 45,
   "metadata": {},
   "outputs": [],
   "source": [
    "def point_wise_feed_forward_network(d_model, dff):\n",
    "    return tf.keras.Sequential([\n",
    "        tf.keras.layers.Dense(dff, activation='relu'),  # (batch_size, seq_len, dff)\n",
    "        tf.keras.layers.Dense(d_model)  # (batch_size, seq_len, d_model)\n",
    "    ])"
   ]
  },
  {
   "cell_type": "code",
   "execution_count": null,
   "metadata": {},
   "outputs": [],
   "source": []
  },
  {
   "cell_type": "code",
   "execution_count": null,
   "metadata": {},
   "outputs": [],
   "source": []
  },
  {
   "cell_type": "code",
   "execution_count": null,
   "metadata": {},
   "outputs": [],
   "source": []
  },
  {
   "cell_type": "markdown",
   "metadata": {},
   "source": [
    "## Encoder and decoder"
   ]
  },
  {
   "cell_type": "markdown",
   "metadata": {},
   "source": [
    "### Encoder layer\n"
   ]
  },
  {
   "cell_type": "code",
   "execution_count": 46,
   "metadata": {},
   "outputs": [],
   "source": [
    "class EncoderLayer(tf.keras.layers.Layer):\n",
    "    def __init__(self, d_model, num_heads, dff, rate=0.1):\n",
    "        super(EncoderLayer, self).__init__()\n",
    "\n",
    "        self.mha = MultiHeadAttention(d_model, num_heads)\n",
    "        self.ffn = point_wise_feed_forward_network(d_model, dff)\n",
    "\n",
    "        self.layernorm1 = tf.keras.layers.LayerNormalization(epsilon=1e-6)\n",
    "        self.layernorm2 = tf.keras.layers.LayerNormalization(epsilon=1e-6)\n",
    "\n",
    "        self.dropout1 = tf.keras.layers.Dropout(rate)\n",
    "        self.dropout2 = tf.keras.layers.Dropout(rate)\n",
    "    \n",
    "    def call(self, x, training, mask):\n",
    "\n",
    "        attn_output, _ = self.mha(x, x, x, mask)  # (batch_size, input_seq_len, d_model)\n",
    "        attn_output = self.dropout1(attn_output, training=training)\n",
    "        out1 = self.layernorm1(x + attn_output)  # (batch_size, input_seq_len, d_model)\n",
    "\n",
    "        ffn_output = self.ffn(out1)  # (batch_size, input_seq_len, d_model)\n",
    "        ffn_output = self.dropout2(ffn_output, training=training)\n",
    "        out2 = self.layernorm2(out1 + ffn_output)  # (batch_size, input_seq_len, d_model)\n",
    "\n",
    "        return out2"
   ]
  },
  {
   "cell_type": "markdown",
   "metadata": {},
   "source": [
    "### Decoder layer\n"
   ]
  },
  {
   "cell_type": "code",
   "execution_count": 47,
   "metadata": {},
   "outputs": [],
   "source": [
    "class DecoderLayer(tf.keras.layers.Layer):\n",
    "    def __init__(self, d_model, num_heads, dff, rate=0.1):\n",
    "        super(DecoderLayer, self).__init__()\n",
    "\n",
    "        self.mha1 = MultiHeadAttention(d_model, num_heads)\n",
    "        self.mha2 = MultiHeadAttention(d_model, num_heads)\n",
    "\n",
    "        self.ffn = point_wise_feed_forward_network(d_model, dff)\n",
    "\n",
    "        self.layernorm1 = tf.keras.layers.LayerNormalization(epsilon=1e-6)\n",
    "        self.layernorm2 = tf.keras.layers.LayerNormalization(epsilon=1e-6)\n",
    "        self.layernorm3 = tf.keras.layers.LayerNormalization(epsilon=1e-6)\n",
    "\n",
    "        self.dropout1 = tf.keras.layers.Dropout(rate)\n",
    "        self.dropout2 = tf.keras.layers.Dropout(rate)\n",
    "        self.dropout3 = tf.keras.layers.Dropout(rate)\n",
    "\n",
    "    \n",
    "    def call(self, x, enc_output, training, look_ahead_mask, padding_mask):\n",
    "        # enc_output.shape == (batch_size, input_seq_len, d_model)\n",
    "\n",
    "        attn1, attn_weights_block1 = self.mha1(x, x, x, look_ahead_mask)  # (batch_size, target_seq_len, d_model)\n",
    "        attn1 = self.dropout1(attn1, training=training)\n",
    "        out1 = self.layernorm1(attn1 + x)\n",
    "\n",
    "        attn2, attn_weights_block2 = self.mha2(enc_output, enc_output, out1, padding_mask)  # (batch_size, target_seq_len, d_model)\n",
    "        attn2 = self.dropout2(attn2, training=training)\n",
    "        out2 = self.layernorm2(attn2 + out1)  # (batch_size, target_seq_len, d_model)\n",
    "\n",
    "        ffn_output = self.ffn(out2)  # (batch_size, target_seq_len, d_model)\n",
    "        ffn_output = self.dropout3(ffn_output, training=training)\n",
    "        out3 = self.layernorm3(ffn_output + out2)  # (batch_size, target_seq_len, d_model)\n",
    "\n",
    "        return out3, attn_weights_block1, attn_weights_block2"
   ]
  },
  {
   "cell_type": "markdown",
   "metadata": {},
   "source": [
    "### Encoder"
   ]
  },
  {
   "cell_type": "code",
   "execution_count": 48,
   "metadata": {},
   "outputs": [],
   "source": [
    "class Encoder(tf.keras.layers.Layer):\n",
    "    def __init__(self, num_layers, d_model, num_heads, dff, input_vocab_size,\n",
    "               maximum_position_encoding, rate=0.1):\n",
    "        super(Encoder, self).__init__()\n",
    "\n",
    "        self.d_model = d_model\n",
    "        self.num_layers = num_layers\n",
    "\n",
    "        self.embedding = tf.keras.layers.Embedding(input_vocab_size, d_model)\n",
    "        self.pos_encoding = positional_encoding(maximum_position_encoding, \n",
    "                                                self.d_model)\n",
    "\n",
    "\n",
    "        self.enc_layers = [EncoderLayer(d_model, num_heads, dff, rate) \n",
    "                           for _ in range(num_layers)]\n",
    "\n",
    "        self.dropout = tf.keras.layers.Dropout(rate)\n",
    "\n",
    "    def call(self, x, training, mask):\n",
    "\n",
    "        seq_len = tf.shape(x)[1]\n",
    "\n",
    "        # adding embedding and position encoding.\n",
    "        x = self.embedding(x)  # (batch_size, input_seq_len, d_model)\n",
    "        x *= tf.math.sqrt(tf.cast(self.d_model, tf.float32))\n",
    "        x += self.pos_encoding[:, :seq_len, :]\n",
    "\n",
    "        x = self.dropout(x, training=training)\n",
    "\n",
    "        for i in range(self.num_layers):\n",
    "            x = self.enc_layers[i](x, training, mask)\n",
    "\n",
    "        return x  # (batch_size, input_seq_len, d_model)"
   ]
  },
  {
   "cell_type": "markdown",
   "metadata": {},
   "source": [
    "### Decoder"
   ]
  },
  {
   "cell_type": "code",
   "execution_count": 49,
   "metadata": {},
   "outputs": [],
   "source": [
    "class Decoder(tf.keras.layers.Layer):\n",
    "    def __init__(self, num_layers, d_model, num_heads, dff, target_vocab_size,\n",
    "                   maximum_position_encoding, rate=0.1):\n",
    "        super(Decoder, self).__init__()\n",
    "\n",
    "        self.d_model = d_model\n",
    "        self.num_layers = num_layers\n",
    "\n",
    "        self.embedding = tf.keras.layers.Embedding(target_vocab_size, d_model)\n",
    "        self.pos_encoding = positional_encoding(maximum_position_encoding, d_model)\n",
    "\n",
    "        self.dec_layers = [DecoderLayer(d_model, num_heads, dff, rate) \n",
    "                           for _ in range(num_layers)]\n",
    "        self.dropout = tf.keras.layers.Dropout(rate)\n",
    "    \n",
    "    def call(self, x, enc_output, training, look_ahead_mask, padding_mask):\n",
    "\n",
    "        seq_len = tf.shape(x)[1]\n",
    "        attention_weights = {}\n",
    "\n",
    "        x = self.embedding(x)  # (batch_size, target_seq_len, d_model)\n",
    "        x *= tf.math.sqrt(tf.cast(self.d_model, tf.float32))\n",
    "        x += self.pos_encoding[:, :seq_len, :]\n",
    "\n",
    "        x = self.dropout(x, training=training)\n",
    "\n",
    "        for i in range(self.num_layers):\n",
    "            x, block1, block2 = self.dec_layers[i](x, enc_output, training,\n",
    "                                                 look_ahead_mask, padding_mask)\n",
    "\n",
    "            attention_weights['decoder_layer{}_block1'.format(i+1)] = block1\n",
    "            attention_weights['decoder_layer{}_block2'.format(i+1)] = block2\n",
    "\n",
    "        # x.shape == (batch_size, target_seq_len, d_model)\n",
    "        return x, attention_weights"
   ]
  },
  {
   "cell_type": "markdown",
   "metadata": {},
   "source": [
    "# Transformer"
   ]
  },
  {
   "cell_type": "code",
   "execution_count": 50,
   "metadata": {},
   "outputs": [],
   "source": [
    "class Transformer(tf.keras.Model):\n",
    "    def __init__(self, num_layers, d_model, num_heads, dff, input_vocab_size, \n",
    "                 target_vocab_size, pe_input, pe_target, rate=0.1):\n",
    "        super(Transformer, self).__init__()\n",
    "\n",
    "        self.encoder = Encoder(num_layers, d_model, num_heads, dff, \n",
    "                               input_vocab_size, pe_input, rate)\n",
    "\n",
    "        self.decoder = Decoder(num_layers, d_model, num_heads, dff, \n",
    "                               target_vocab_size, pe_target, rate)\n",
    "\n",
    "        self.final_layer = tf.keras.layers.Dense(target_vocab_size)\n",
    "    \n",
    "    def call(self, inp, tar, training, enc_padding_mask, look_ahead_mask, dec_padding_mask):\n",
    "\n",
    "        enc_output = self.encoder(inp, training, enc_padding_mask)  # (batch_size, inp_seq_len, d_model)\n",
    "\n",
    "        # dec_output.shape == (batch_size, tar_seq_len, d_model)\n",
    "        dec_output, attention_weights = self.decoder(\n",
    "                    tar, enc_output, training, look_ahead_mask, dec_padding_mask)\n",
    "\n",
    "        final_output = self.final_layer(dec_output)  # (batch_size, tar_seq_len, target_vocab_size)\n",
    "\n",
    "        return final_output, attention_weights"
   ]
  },
  {
   "cell_type": "code",
   "execution_count": null,
   "metadata": {},
   "outputs": [],
   "source": []
  },
  {
   "cell_type": "markdown",
   "metadata": {},
   "source": [
    "## Hyperparameters"
   ]
  },
  {
   "cell_type": "code",
   "execution_count": 51,
   "metadata": {},
   "outputs": [],
   "source": [
    "num_layers = 4\n",
    "d_model = 128\n",
    "dff = 512\n",
    "num_heads = 8\n",
    "\n",
    "input_vocab_size = tokenizer.vocab_size + 2\n",
    "target_vocab_size = tokenizer.vocab_size + 2\n",
    "dropout_rate = 0.1"
   ]
  },
  {
   "cell_type": "code",
   "execution_count": 52,
   "metadata": {},
   "outputs": [],
   "source": [
    "class CustomSchedule(tf.keras.optimizers.schedules.LearningRateSchedule):\n",
    "    def __init__(self, d_model, warmup_steps=4000):\n",
    "        super(CustomSchedule, self).__init__()\n",
    "\n",
    "        self.d_model = d_model\n",
    "        self.d_model = tf.cast(self.d_model, tf.float32)\n",
    "\n",
    "        self.warmup_steps = warmup_steps\n",
    "    \n",
    "    def __call__(self, step):\n",
    "        arg1 = tf.math.rsqrt(step)\n",
    "        arg2 = step * (self.warmup_steps ** -1.5)\n",
    "\n",
    "        return tf.math.rsqrt(self.d_model) * tf.math.minimum(arg1, arg2)"
   ]
  },
  {
   "cell_type": "code",
   "execution_count": 53,
   "metadata": {},
   "outputs": [],
   "source": [
    "learning_rate = CustomSchedule(d_model)\n",
    "\n",
    "optimizer = tf.keras.optimizers.Adam(learning_rate, beta_1=0.9, beta_2=0.98, \n",
    "                                     epsilon=1e-9)"
   ]
  },
  {
   "cell_type": "code",
   "execution_count": null,
   "metadata": {},
   "outputs": [],
   "source": []
  },
  {
   "cell_type": "code",
   "execution_count": 54,
   "metadata": {},
   "outputs": [],
   "source": [
    "loss_object = tf.keras.losses.SparseCategoricalCrossentropy(\n",
    "    from_logits=True, reduction='none')"
   ]
  },
  {
   "cell_type": "code",
   "execution_count": 55,
   "metadata": {},
   "outputs": [],
   "source": [
    "def loss_function(real, pred):\n",
    "    mask = tf.math.logical_not(tf.math.equal(real, 0))\n",
    "    loss_ = loss_object(real, pred)\n",
    "\n",
    "    mask = tf.cast(mask, dtype=loss_.dtype)\n",
    "    loss_ *= mask\n",
    "\n",
    "    return tf.reduce_mean(loss_)"
   ]
  },
  {
   "cell_type": "code",
   "execution_count": 56,
   "metadata": {},
   "outputs": [],
   "source": [
    "train_loss = tf.keras.metrics.Mean(name='train_loss')\n",
    "train_accuracy = tf.keras.metrics.SparseCategoricalAccuracy(\n",
    "    name='train_accuracy')"
   ]
  },
  {
   "cell_type": "code",
   "execution_count": 57,
   "metadata": {},
   "outputs": [],
   "source": [
    "transformer = Transformer(num_layers, d_model, num_heads, dff,\n",
    "                          input_vocab_size, target_vocab_size, \n",
    "                          pe_input=input_vocab_size, \n",
    "                          pe_target=target_vocab_size,\n",
    "                          rate=dropout_rate)"
   ]
  },
  {
   "cell_type": "code",
   "execution_count": null,
   "metadata": {},
   "outputs": [],
   "source": [
    "def create_masks(inp, tar):\n",
    "    # Encoder padding mask\n",
    "    enc_padding_mask = create_padding_mask(inp)\n",
    "\n",
    "    # Used in the 2nd attention block in the decoder.\n",
    "    # This padding mask is used to mask the encoder outputs.\n",
    "    dec_padding_mask = create_padding_mask(inp)\n",
    "\n",
    "    # Used in the 1st attention block in the decoder.\n",
    "    # It is used to pad and mask future tokens in the input received by \n",
    "    # the decoder.\n",
    "    look_ahead_mask = create_look_ahead_mask(tf.shape(tar)[1])\n",
    "    dec_target_padding_mask = create_padding_mask(tar)\n",
    "    combined_mask = tf.maximum(dec_target_padding_mask, look_ahead_mask)\n",
    "\n",
    "    return enc_padding_mask, combined_mask, dec_padding_mask"
   ]
  },
  {
   "cell_type": "code",
   "execution_count": null,
   "metadata": {},
   "outputs": [],
   "source": [
    "checkpoint_path = \"./checkpoints/train\"\n",
    "\n",
    "ckpt = tf.train.Checkpoint(transformer=transformer,\n",
    "                           optimizer=optimizer)\n",
    "\n",
    "ckpt_manager = tf.train.CheckpointManager(ckpt, checkpoint_path, max_to_keep=5)\n",
    "\n",
    "# if a checkpoint exists, restore the latest checkpoint.\n",
    "if ckpt_manager.latest_checkpoint:\n",
    "    ckpt.restore(ckpt_manager.latest_checkpoint)\n",
    "    print ('Latest checkpoint restored!!')"
   ]
  },
  {
   "cell_type": "code",
   "execution_count": null,
   "metadata": {},
   "outputs": [],
   "source": []
  },
  {
   "cell_type": "code",
   "execution_count": null,
   "metadata": {},
   "outputs": [],
   "source": [
    "EPOCHS = 20"
   ]
  },
  {
   "cell_type": "code",
   "execution_count": null,
   "metadata": {},
   "outputs": [],
   "source": [
    "\n",
    "train_step_signature = [\n",
    "    tf.TensorSpec(shape=(None, None), dtype=tf.int64),\n",
    "    tf.TensorSpec(shape=(None, None), dtype=tf.int64),\n",
    "]\n",
    "\n",
    "@tf.function(input_signature=train_step_signature)\n",
    "def train_step(inp, tar):\n",
    "    tar_inp = tar[:, :-1]\n",
    "    tar_real = tar[:, 1:]\n",
    "\n",
    "    enc_padding_mask, combined_mask, dec_padding_mask = create_masks(inp, tar_inp)\n",
    "\n",
    "    with tf.GradientTape() as tape:\n",
    "        predictions, _ = transformer(inp, tar_inp, \n",
    "                                     True, \n",
    "                                     enc_padding_mask, \n",
    "                                     combined_mask, \n",
    "                                     dec_padding_mask)\n",
    "        loss = loss_function(tar_real, predictions)\n",
    "\n",
    "    gradients = tape.gradient(loss, transformer.trainable_variables)    \n",
    "    optimizer.apply_gradients(zip(gradients, transformer.trainable_variables))\n",
    "\n",
    "    train_loss(loss)\n",
    "    train_accuracy(tar_real, predictions)"
   ]
  },
  {
   "cell_type": "code",
   "execution_count": null,
   "metadata": {},
   "outputs": [
    {
     "name": "stdout",
     "output_type": "stream",
     "text": [
      "Epoch 1 Batch 0 Loss 5.2118 Accuracy 0.0001\n"
     ]
    }
   ],
   "source": [
    "for epoch in range(EPOCHS):\n",
    "    start = time.time()\n",
    "\n",
    "    train_loss.reset_states()\n",
    "    train_accuracy.reset_states()\n",
    "\n",
    "    # inp -> , tar -> \n",
    "    for (batch, (inp, tar)) in enumerate(train_dataset):\n",
    "        train_step(inp, tar)\n",
    "\n",
    "        if batch % 50 == 0:\n",
    "            print ('Epoch {} Batch {} Loss {:.4f} Accuracy {:.4f}'.format(\n",
    "                epoch + 1, batch, train_loss.result(), train_accuracy.result()))\n",
    "\n",
    "    if (epoch + 1) % 5 == 0:\n",
    "        ckpt_save_path = ckpt_manager.save()\n",
    "        print ('Saving checkpoint for epoch {} at {}'.format(epoch+1,\n",
    "                                                         ckpt_save_path))\n",
    "\n",
    "    print ('Epoch {} Loss {:.4f} Accuracy {:.4f}'.format(epoch + 1, \n",
    "                                                train_loss.result(), \n",
    "                                                train_accuracy.result()))\n",
    "\n",
    "    print ('Time taken for 1 epoch: {} secs\\n'.format(time.time() - start))"
   ]
  },
  {
   "cell_type": "code",
   "execution_count": null,
   "metadata": {},
   "outputs": [],
   "source": []
  },
  {
   "cell_type": "code",
   "execution_count": null,
   "metadata": {},
   "outputs": [],
   "source": []
  },
  {
   "cell_type": "code",
   "execution_count": null,
   "metadata": {},
   "outputs": [],
   "source": []
  },
  {
   "cell_type": "code",
   "execution_count": null,
   "metadata": {},
   "outputs": [],
   "source": []
  }
 ],
 "metadata": {
  "kernelspec": {
   "display_name": "Python 3",
   "language": "python",
   "name": "python3"
  },
  "language_info": {
   "codemirror_mode": {
    "name": "ipython",
    "version": 3
   },
   "file_extension": ".py",
   "mimetype": "text/x-python",
   "name": "python",
   "nbconvert_exporter": "python",
   "pygments_lexer": "ipython3",
   "version": "3.6.9"
  }
 },
 "nbformat": 4,
 "nbformat_minor": 2
}
